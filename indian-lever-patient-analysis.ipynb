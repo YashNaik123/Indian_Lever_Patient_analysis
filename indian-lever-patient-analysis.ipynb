{
 "cells": [
  {
   "cell_type": "code",
   "execution_count": 1,
   "metadata": {},
   "outputs": [],
   "source": [
    "import pandas as pd\n",
    "import numpy as np\n",
    "import matplotlib.pyplot as plt\n",
    "import seaborn as sns\n",
    "import matplotlib.mlab as mlab\n",
    "%matplotlib inline"
   ]
  },
  {
   "cell_type": "markdown",
   "metadata": {},
   "source": [
    "### 1.Read the dataset (tab, csv, xls, txt, inbuilt dataset)"
   ]
  },
  {
   "cell_type": "code",
   "execution_count": 2,
   "metadata": {},
   "outputs": [
    {
     "data": {
      "text/html": [
       "<div>\n",
       "<style scoped>\n",
       "    .dataframe tbody tr th:only-of-type {\n",
       "        vertical-align: middle;\n",
       "    }\n",
       "\n",
       "    .dataframe tbody tr th {\n",
       "        vertical-align: top;\n",
       "    }\n",
       "\n",
       "    .dataframe thead th {\n",
       "        text-align: right;\n",
       "    }\n",
       "</style>\n",
       "<table border=\"1\" class=\"dataframe\">\n",
       "  <thead>\n",
       "    <tr style=\"text-align: right;\">\n",
       "      <th></th>\n",
       "      <th>Age</th>\n",
       "      <th>Gender</th>\n",
       "      <th>Total_Bilirubin</th>\n",
       "      <th>Direct_Bilirubin</th>\n",
       "      <th>Alkaline_Phosphotase</th>\n",
       "      <th>Alamine_Aminotransferase</th>\n",
       "      <th>Aspartate_Aminotransferase</th>\n",
       "      <th>Total_Protiens</th>\n",
       "      <th>Albumin</th>\n",
       "      <th>Albumin_and_Globulin_Ratio</th>\n",
       "      <th>Dataset</th>\n",
       "    </tr>\n",
       "  </thead>\n",
       "  <tbody>\n",
       "    <tr>\n",
       "      <th>0</th>\n",
       "      <td>65</td>\n",
       "      <td>Female</td>\n",
       "      <td>0.7</td>\n",
       "      <td>0.1</td>\n",
       "      <td>187</td>\n",
       "      <td>16</td>\n",
       "      <td>18</td>\n",
       "      <td>6.8</td>\n",
       "      <td>3.3</td>\n",
       "      <td>0.90</td>\n",
       "      <td>1</td>\n",
       "    </tr>\n",
       "    <tr>\n",
       "      <th>1</th>\n",
       "      <td>62</td>\n",
       "      <td>Male</td>\n",
       "      <td>10.9</td>\n",
       "      <td>5.5</td>\n",
       "      <td>699</td>\n",
       "      <td>64</td>\n",
       "      <td>100</td>\n",
       "      <td>7.5</td>\n",
       "      <td>3.2</td>\n",
       "      <td>0.74</td>\n",
       "      <td>1</td>\n",
       "    </tr>\n",
       "    <tr>\n",
       "      <th>2</th>\n",
       "      <td>62</td>\n",
       "      <td>Male</td>\n",
       "      <td>7.3</td>\n",
       "      <td>4.1</td>\n",
       "      <td>490</td>\n",
       "      <td>60</td>\n",
       "      <td>68</td>\n",
       "      <td>7.0</td>\n",
       "      <td>3.3</td>\n",
       "      <td>0.89</td>\n",
       "      <td>1</td>\n",
       "    </tr>\n",
       "    <tr>\n",
       "      <th>3</th>\n",
       "      <td>58</td>\n",
       "      <td>Male</td>\n",
       "      <td>1.0</td>\n",
       "      <td>0.4</td>\n",
       "      <td>182</td>\n",
       "      <td>14</td>\n",
       "      <td>20</td>\n",
       "      <td>6.8</td>\n",
       "      <td>3.4</td>\n",
       "      <td>1.00</td>\n",
       "      <td>1</td>\n",
       "    </tr>\n",
       "    <tr>\n",
       "      <th>4</th>\n",
       "      <td>72</td>\n",
       "      <td>Male</td>\n",
       "      <td>3.9</td>\n",
       "      <td>2.0</td>\n",
       "      <td>195</td>\n",
       "      <td>27</td>\n",
       "      <td>59</td>\n",
       "      <td>7.3</td>\n",
       "      <td>2.4</td>\n",
       "      <td>0.40</td>\n",
       "      <td>1</td>\n",
       "    </tr>\n",
       "  </tbody>\n",
       "</table>\n",
       "</div>"
      ],
      "text/plain": [
       "   Age  Gender  Total_Bilirubin  Direct_Bilirubin  Alkaline_Phosphotase  \\\n",
       "0   65  Female              0.7               0.1                   187   \n",
       "1   62    Male             10.9               5.5                   699   \n",
       "2   62    Male              7.3               4.1                   490   \n",
       "3   58    Male              1.0               0.4                   182   \n",
       "4   72    Male              3.9               2.0                   195   \n",
       "\n",
       "   Alamine_Aminotransferase  Aspartate_Aminotransferase  Total_Protiens  \\\n",
       "0                        16                          18             6.8   \n",
       "1                        64                         100             7.5   \n",
       "2                        60                          68             7.0   \n",
       "3                        14                          20             6.8   \n",
       "4                        27                          59             7.3   \n",
       "\n",
       "   Albumin  Albumin_and_Globulin_Ratio  Dataset  \n",
       "0      3.3                        0.90        1  \n",
       "1      3.2                        0.74        1  \n",
       "2      3.3                        0.89        1  \n",
       "3      3.4                        1.00        1  \n",
       "4      2.4                        0.40        1  "
      ]
     },
     "execution_count": 2,
     "metadata": {},
     "output_type": "execute_result"
    }
   ],
   "source": [
    "\n",
    "df = pd.read_csv(\"../input/indian-liver-patient-records/indian_liver_patient.csv\")\n",
    "df.head()\n"
   ]
  },
  {
   "cell_type": "markdown",
   "metadata": {},
   "source": [
    "### 2.Summarize important observations from the data set "
   ]
  },
  {
   "cell_type": "markdown",
   "metadata": {},
   "source": [
    "#### Some pointers which would help you, but don’t be limited by these\n",
    "#### a.\tFind out number of rows; no. & types of variables (continuous, categorical etc.)\n"
   ]
  },
  {
   "cell_type": "code",
   "execution_count": 3,
   "metadata": {},
   "outputs": [
    {
     "name": "stdout",
     "output_type": "stream",
     "text": [
      "This dataframe has 583 rows and 11 columns\n"
     ]
    }
   ],
   "source": [
    "# dataframe dimensions\n",
    "print(\"This dataframe has {} rows and {} columns\".format(*df.shape))"
   ]
  },
  {
   "cell_type": "code",
   "execution_count": 4,
   "metadata": {},
   "outputs": [
    {
     "name": "stdout",
     "output_type": "stream",
     "text": [
      "<class 'pandas.core.frame.DataFrame'>\n",
      "RangeIndex: 583 entries, 0 to 582\n",
      "Data columns (total 11 columns):\n",
      "Age                           583 non-null int64\n",
      "Gender                        583 non-null object\n",
      "Total_Bilirubin               583 non-null float64\n",
      "Direct_Bilirubin              583 non-null float64\n",
      "Alkaline_Phosphotase          583 non-null int64\n",
      "Alamine_Aminotransferase      583 non-null int64\n",
      "Aspartate_Aminotransferase    583 non-null int64\n",
      "Total_Protiens                583 non-null float64\n",
      "Albumin                       583 non-null float64\n",
      "Albumin_and_Globulin_Ratio    579 non-null float64\n",
      "Dataset                       583 non-null int64\n",
      "dtypes: float64(5), int64(5), object(1)\n",
      "memory usage: 50.2+ KB\n"
     ]
    }
   ],
   "source": [
    "df.info()"
   ]
  },
  {
   "cell_type": "code",
   "execution_count": 5,
   "metadata": {},
   "outputs": [
    {
     "name": "stdout",
     "output_type": "stream",
     "text": [
      "There are 10 numeric columns\n"
     ]
    }
   ],
   "source": [
    "numerical_cols = df.select_dtypes(include=\"number\").columns\n",
    "print('There are',len(numerical_cols),'numeric columns')"
   ]
  },
  {
   "cell_type": "code",
   "execution_count": 6,
   "metadata": {},
   "outputs": [
    {
     "name": "stdout",
     "output_type": "stream",
     "text": [
      "There are 1 categorical columns\n"
     ]
    }
   ],
   "source": [
    "categorical_cols = df.select_dtypes(include=\"object\").columns\n",
    "\n",
    "print('There are',len(categorical_cols),'categorical columns')"
   ]
  },
  {
   "cell_type": "code",
   "execution_count": 7,
   "metadata": {},
   "outputs": [
    {
     "data": {
      "text/html": [
       "<div>\n",
       "<style scoped>\n",
       "    .dataframe tbody tr th:only-of-type {\n",
       "        vertical-align: middle;\n",
       "    }\n",
       "\n",
       "    .dataframe tbody tr th {\n",
       "        vertical-align: top;\n",
       "    }\n",
       "\n",
       "    .dataframe thead th {\n",
       "        text-align: right;\n",
       "    }\n",
       "</style>\n",
       "<table border=\"1\" class=\"dataframe\">\n",
       "  <thead>\n",
       "    <tr style=\"text-align: right;\">\n",
       "      <th></th>\n",
       "      <th>Age</th>\n",
       "      <th>Gender</th>\n",
       "      <th>Total_Bilirubin</th>\n",
       "      <th>Direct_Bilirubin</th>\n",
       "      <th>Alkaline_Phosphotase</th>\n",
       "      <th>Alamine_Aminotransferase</th>\n",
       "      <th>Aspartate_Aminotransferase</th>\n",
       "      <th>Total_Protiens</th>\n",
       "      <th>Albumin</th>\n",
       "      <th>Albumin_and_Globulin_Ratio</th>\n",
       "      <th>target</th>\n",
       "    </tr>\n",
       "  </thead>\n",
       "  <tbody>\n",
       "    <tr>\n",
       "      <th>0</th>\n",
       "      <td>65</td>\n",
       "      <td>Female</td>\n",
       "      <td>0.7</td>\n",
       "      <td>0.1</td>\n",
       "      <td>187</td>\n",
       "      <td>16</td>\n",
       "      <td>18</td>\n",
       "      <td>6.8</td>\n",
       "      <td>3.3</td>\n",
       "      <td>0.90</td>\n",
       "      <td>1</td>\n",
       "    </tr>\n",
       "    <tr>\n",
       "      <th>1</th>\n",
       "      <td>62</td>\n",
       "      <td>Male</td>\n",
       "      <td>10.9</td>\n",
       "      <td>5.5</td>\n",
       "      <td>699</td>\n",
       "      <td>64</td>\n",
       "      <td>100</td>\n",
       "      <td>7.5</td>\n",
       "      <td>3.2</td>\n",
       "      <td>0.74</td>\n",
       "      <td>1</td>\n",
       "    </tr>\n",
       "    <tr>\n",
       "      <th>2</th>\n",
       "      <td>62</td>\n",
       "      <td>Male</td>\n",
       "      <td>7.3</td>\n",
       "      <td>4.1</td>\n",
       "      <td>490</td>\n",
       "      <td>60</td>\n",
       "      <td>68</td>\n",
       "      <td>7.0</td>\n",
       "      <td>3.3</td>\n",
       "      <td>0.89</td>\n",
       "      <td>1</td>\n",
       "    </tr>\n",
       "    <tr>\n",
       "      <th>3</th>\n",
       "      <td>58</td>\n",
       "      <td>Male</td>\n",
       "      <td>1.0</td>\n",
       "      <td>0.4</td>\n",
       "      <td>182</td>\n",
       "      <td>14</td>\n",
       "      <td>20</td>\n",
       "      <td>6.8</td>\n",
       "      <td>3.4</td>\n",
       "      <td>1.00</td>\n",
       "      <td>1</td>\n",
       "    </tr>\n",
       "    <tr>\n",
       "      <th>4</th>\n",
       "      <td>72</td>\n",
       "      <td>Male</td>\n",
       "      <td>3.9</td>\n",
       "      <td>2.0</td>\n",
       "      <td>195</td>\n",
       "      <td>27</td>\n",
       "      <td>59</td>\n",
       "      <td>7.3</td>\n",
       "      <td>2.4</td>\n",
       "      <td>0.40</td>\n",
       "      <td>1</td>\n",
       "    </tr>\n",
       "  </tbody>\n",
       "</table>\n",
       "</div>"
      ],
      "text/plain": [
       "   Age  Gender  Total_Bilirubin  Direct_Bilirubin  Alkaline_Phosphotase  \\\n",
       "0   65  Female              0.7               0.1                   187   \n",
       "1   62    Male             10.9               5.5                   699   \n",
       "2   62    Male              7.3               4.1                   490   \n",
       "3   58    Male              1.0               0.4                   182   \n",
       "4   72    Male              3.9               2.0                   195   \n",
       "\n",
       "   Alamine_Aminotransferase  Aspartate_Aminotransferase  Total_Protiens  \\\n",
       "0                        16                          18             6.8   \n",
       "1                        64                         100             7.5   \n",
       "2                        60                          68             7.0   \n",
       "3                        14                          20             6.8   \n",
       "4                        27                          59             7.3   \n",
       "\n",
       "   Albumin  Albumin_and_Globulin_Ratio  target  \n",
       "0      3.3                        0.90       1  \n",
       "1      3.2                        0.74       1  \n",
       "2      3.3                        0.89       1  \n",
       "3      3.4                        1.00       1  \n",
       "4      2.4                        0.40       1  "
      ]
     },
     "execution_count": 7,
     "metadata": {},
     "output_type": "execute_result"
    }
   ],
   "source": [
    "df.rename(columns={'Dataset':'target'},inplace=True)\n",
    "df.head()"
   ]
  },
  {
   "cell_type": "code",
   "execution_count": 8,
   "metadata": {},
   "outputs": [
    {
     "data": {
      "text/plain": [
       "Text(0.5, 1.0, 'Age wise liver patient')"
      ]
     },
     "execution_count": 8,
     "metadata": {},
     "output_type": "execute_result"
    },
    {
     "data": {
      "image/png": "[encoded data removed]",
      "text/plain": [
       "<Figure size 720x360 with 2 Axes>"
      ]
     },
     "metadata": {},
     "output_type": "display_data"
    }
   ],
   "source": [
    "target_counts=df['target'].value_counts().values\n",
    "gender_counts=df['Gender'].value_counts().values\n",
    "\n",
    "fig1, axes=plt.subplots(nrows=1, ncols=2,figsize=(10,5))\n",
    "\n",
    "\n",
    "target_sizes=df.groupby('target').size()\n",
    "axes[0].pie(\n",
    "    x=target_counts,\n",
    "    labels=['patient({})'.format(target_sizes[1]),'not patient({})'.format(target_sizes[2])],\n",
    "    autopct='%1.1f%%'\n",
    ")\n",
    "axes[0].set_title(\"Percentage of liver patient\")\n",
    "\n",
    "gender_sizes=df.groupby('Gender').size()\n",
    "axes[1].pie(\n",
    "    x=gender_counts, \n",
    "    labels=['male({})'.format(gender_sizes['Male']), 'female({})'.format(gender_sizes['Female'])], \n",
    "    autopct=\"%1.1f%%\"\n",
    ")\n",
    "axes[1].set_title(\"Age wise liver patient\")"
   ]
  },
  {
   "cell_type": "code",
   "execution_count": 9,
   "metadata": {},
   "outputs": [
    {
     "data": {
      "text/plain": [
       "<matplotlib.axes._subplots.AxesSubplot at 0x7f06bda495f8>"
      ]
     },
     "execution_count": 9,
     "metadata": {},
     "output_type": "execute_result"
    },
    {
     "data": {
      "image/png": "[encoded data removed]",
      "text/plain": [
       "<Figure size 432x288 with 1 Axes>"
      ]
     },
     "metadata": {
      "needs_background": "light"
     },
     "output_type": "display_data"
    }
   ],
   "source": [
    "df['Gender'].value_counts().plot.bar(color='peachpuff')"
   ]
  },
  {
   "cell_type": "markdown",
   "metadata": {},
   "source": [
    "No.of male is more than female."
   ]
  },
  {
   "cell_type": "markdown",
   "metadata": {},
   "source": [
    "#### b.\tCalculate five-point summary for numerical variables"
   ]
  },
  {
   "cell_type": "code",
   "execution_count": 10,
   "metadata": {},
   "outputs": [
    {
     "data": {
      "text/html": [
       "<div>\n",
       "<style scoped>\n",
       "    .dataframe tbody tr th:only-of-type {\n",
       "        vertical-align: middle;\n",
       "    }\n",
       "\n",
       "    .dataframe tbody tr th {\n",
       "        vertical-align: top;\n",
       "    }\n",
       "\n",
       "    .dataframe thead th {\n",
       "        text-align: right;\n",
       "    }\n",
       "</style>\n",
       "<table border=\"1\" class=\"dataframe\">\n",
       "  <thead>\n",
       "    <tr style=\"text-align: right;\">\n",
       "      <th></th>\n",
       "      <th>count</th>\n",
       "      <th>mean</th>\n",
       "      <th>std</th>\n",
       "      <th>min</th>\n",
       "      <th>25%</th>\n",
       "      <th>50%</th>\n",
       "      <th>75%</th>\n",
       "      <th>max</th>\n",
       "    </tr>\n",
       "  </thead>\n",
       "  <tbody>\n",
       "    <tr>\n",
       "      <th>Age</th>\n",
       "      <td>583.0</td>\n",
       "      <td>44.746141</td>\n",
       "      <td>16.189833</td>\n",
       "      <td>4.0</td>\n",
       "      <td>33.0</td>\n",
       "      <td>45.00</td>\n",
       "      <td>58.0</td>\n",
       "      <td>90.0</td>\n",
       "    </tr>\n",
       "    <tr>\n",
       "      <th>Total_Bilirubin</th>\n",
       "      <td>583.0</td>\n",
       "      <td>3.298799</td>\n",
       "      <td>6.209522</td>\n",
       "      <td>0.4</td>\n",
       "      <td>0.8</td>\n",
       "      <td>1.00</td>\n",
       "      <td>2.6</td>\n",
       "      <td>75.0</td>\n",
       "    </tr>\n",
       "    <tr>\n",
       "      <th>Direct_Bilirubin</th>\n",
       "      <td>583.0</td>\n",
       "      <td>1.486106</td>\n",
       "      <td>2.808498</td>\n",
       "      <td>0.1</td>\n",
       "      <td>0.2</td>\n",
       "      <td>0.30</td>\n",
       "      <td>1.3</td>\n",
       "      <td>19.7</td>\n",
       "    </tr>\n",
       "    <tr>\n",
       "      <th>Alkaline_Phosphotase</th>\n",
       "      <td>583.0</td>\n",
       "      <td>290.576329</td>\n",
       "      <td>242.937989</td>\n",
       "      <td>63.0</td>\n",
       "      <td>175.5</td>\n",
       "      <td>208.00</td>\n",
       "      <td>298.0</td>\n",
       "      <td>2110.0</td>\n",
       "    </tr>\n",
       "    <tr>\n",
       "      <th>Alamine_Aminotransferase</th>\n",
       "      <td>583.0</td>\n",
       "      <td>80.713551</td>\n",
       "      <td>182.620356</td>\n",
       "      <td>10.0</td>\n",
       "      <td>23.0</td>\n",
       "      <td>35.00</td>\n",
       "      <td>60.5</td>\n",
       "      <td>2000.0</td>\n",
       "    </tr>\n",
       "    <tr>\n",
       "      <th>Aspartate_Aminotransferase</th>\n",
       "      <td>583.0</td>\n",
       "      <td>109.910806</td>\n",
       "      <td>288.918529</td>\n",
       "      <td>10.0</td>\n",
       "      <td>25.0</td>\n",
       "      <td>42.00</td>\n",
       "      <td>87.0</td>\n",
       "      <td>4929.0</td>\n",
       "    </tr>\n",
       "    <tr>\n",
       "      <th>Total_Protiens</th>\n",
       "      <td>583.0</td>\n",
       "      <td>6.483190</td>\n",
       "      <td>1.085451</td>\n",
       "      <td>2.7</td>\n",
       "      <td>5.8</td>\n",
       "      <td>6.60</td>\n",
       "      <td>7.2</td>\n",
       "      <td>9.6</td>\n",
       "    </tr>\n",
       "    <tr>\n",
       "      <th>Albumin</th>\n",
       "      <td>583.0</td>\n",
       "      <td>3.141852</td>\n",
       "      <td>0.795519</td>\n",
       "      <td>0.9</td>\n",
       "      <td>2.6</td>\n",
       "      <td>3.10</td>\n",
       "      <td>3.8</td>\n",
       "      <td>5.5</td>\n",
       "    </tr>\n",
       "    <tr>\n",
       "      <th>Albumin_and_Globulin_Ratio</th>\n",
       "      <td>579.0</td>\n",
       "      <td>0.947064</td>\n",
       "      <td>0.319592</td>\n",
       "      <td>0.3</td>\n",
       "      <td>0.7</td>\n",
       "      <td>0.93</td>\n",
       "      <td>1.1</td>\n",
       "      <td>2.8</td>\n",
       "    </tr>\n",
       "    <tr>\n",
       "      <th>target</th>\n",
       "      <td>583.0</td>\n",
       "      <td>1.286449</td>\n",
       "      <td>0.452490</td>\n",
       "      <td>1.0</td>\n",
       "      <td>1.0</td>\n",
       "      <td>1.00</td>\n",
       "      <td>2.0</td>\n",
       "      <td>2.0</td>\n",
       "    </tr>\n",
       "  </tbody>\n",
       "</table>\n",
       "</div>"
      ],
      "text/plain": [
       "                            count        mean         std   min    25%  \\\n",
       "Age                         583.0   44.746141   16.189833   4.0   33.0   \n",
       "Total_Bilirubin             583.0    3.298799    6.209522   0.4    0.8   \n",
       "Direct_Bilirubin            583.0    1.486106    2.808498   0.1    0.2   \n",
       "Alkaline_Phosphotase        583.0  290.576329  242.937989  63.0  175.5   \n",
       "Alamine_Aminotransferase    583.0   80.713551  182.620356  10.0   23.0   \n",
       "Aspartate_Aminotransferase  583.0  109.910806  288.918529  10.0   25.0   \n",
       "Total_Protiens              583.0    6.483190    1.085451   2.7    5.8   \n",
       "Albumin                     583.0    3.141852    0.795519   0.9    2.6   \n",
       "Albumin_and_Globulin_Ratio  579.0    0.947064    0.319592   0.3    0.7   \n",
       "target                      583.0    1.286449    0.452490   1.0    1.0   \n",
       "\n",
       "                               50%    75%     max  \n",
       "Age                          45.00   58.0    90.0  \n",
       "Total_Bilirubin               1.00    2.6    75.0  \n",
       "Direct_Bilirubin              0.30    1.3    19.7  \n",
       "Alkaline_Phosphotase        208.00  298.0  2110.0  \n",
       "Alamine_Aminotransferase     35.00   60.5  2000.0  \n",
       "Aspartate_Aminotransferase   42.00   87.0  4929.0  \n",
       "Total_Protiens                6.60    7.2     9.6  \n",
       "Albumin                       3.10    3.8     5.5  \n",
       "Albumin_and_Globulin_Ratio    0.93    1.1     2.8  \n",
       "target                        1.00    2.0     2.0  "
      ]
     },
     "execution_count": 10,
     "metadata": {},
     "output_type": "execute_result"
    }
   ],
   "source": [
    "df.describe().T"
   ]
  },
  {
   "cell_type": "markdown",
   "metadata": {},
   "source": [
    "#### c.\tSummarize observations for categorical variables – no. of categories, % observations in each category"
   ]
  },
  {
   "cell_type": "code",
   "execution_count": 11,
   "metadata": {},
   "outputs": [
    {
     "data": {
      "text/plain": [
       "int64      5\n",
       "float64    5\n",
       "object     1\n",
       "dtype: int64"
      ]
     },
     "execution_count": 11,
     "metadata": {},
     "output_type": "execute_result"
    }
   ],
   "source": [
    "df.dtypes.value_counts()"
   ]
  },
  {
   "cell_type": "code",
   "execution_count": 12,
   "metadata": {},
   "outputs": [
    {
     "name": "stdout",
     "output_type": "stream",
     "text": [
      "Categorical columns in the dataset are : ['Gender', 'target']\n",
      "No of values in each categories   \n",
      "Column =  Gender\n",
      "Male      441\n",
      "Female    142\n",
      "Name: Gender, dtype: int64\n",
      "Column =  target\n",
      "1    416\n",
      "2    167\n",
      "Name: target, dtype: int64\n"
     ]
    }
   ],
   "source": [
    "cat_col = ['Gender','target']\n",
    "print('Categorical columns in the dataset are :',cat_col)\n",
    "print('No of values in each categories   ')\n",
    "for i in cat_col:\n",
    "   print('Column = ',i)\n",
    "   print(df[i].value_counts())"
   ]
  },
  {
   "cell_type": "code",
   "execution_count": 13,
   "metadata": {},
   "outputs": [
    {
     "name": "stdout",
     "output_type": "stream",
     "text": [
      "Percentage of categories in each variable\n",
      "Column =  Gender\n",
      "Male      0.756432\n",
      "Female    0.243568\n",
      "Name: Gender, dtype: float64\n",
      "Column =  target\n",
      "1    0.713551\n",
      "2    0.286449\n",
      "Name: target, dtype: float64\n"
     ]
    }
   ],
   "source": [
    "print('Percentage of categories in each variable')\n",
    "for i in cat_col:\n",
    "   print('Column = ',i)\n",
    "   print(df[i].value_counts()/len(df[i]))    "
   ]
  },
  {
   "cell_type": "markdown",
   "metadata": {},
   "source": [
    "### 3.Check for defects in the data. Perform necessary actions to ‘fix’ these defects (5 Marks)"
   ]
  },
  {
   "cell_type": "markdown",
   "metadata": {},
   "source": [
    "#### Some pointers which would help you, but don’t be limited by these\n",
    "#### a.\tDo variables have missing/null values?\n"
   ]
  },
  {
   "cell_type": "code",
   "execution_count": 14,
   "metadata": {},
   "outputs": [
    {
     "data": {
      "text/plain": [
       "Age                           0\n",
       "Gender                        0\n",
       "Total_Bilirubin               0\n",
       "Direct_Bilirubin              0\n",
       "Alkaline_Phosphotase          0\n",
       "Alamine_Aminotransferase      0\n",
       "Aspartate_Aminotransferase    0\n",
       "Total_Protiens                0\n",
       "Albumin                       0\n",
       "Albumin_and_Globulin_Ratio    4\n",
       "target                        0\n",
       "dtype: int64"
      ]
     },
     "execution_count": 14,
     "metadata": {},
     "output_type": "execute_result"
    }
   ],
   "source": [
    "df.isnull().sum()     "
   ]
  },
  {
   "cell_type": "markdown",
   "metadata": {},
   "source": [
    "There are four missing values in Albumin_and_Globulin_Ratio.Filling missing values with mean."
   ]
  },
  {
   "cell_type": "code",
   "execution_count": 15,
   "metadata": {},
   "outputs": [
    {
     "name": "stdout",
     "output_type": "stream",
     "text": [
      "<class 'pandas.core.frame.DataFrame'>\n",
      "RangeIndex: 583 entries, 0 to 582\n",
      "Data columns (total 11 columns):\n",
      "Age                           583 non-null int64\n",
      "Gender                        583 non-null object\n",
      "Total_Bilirubin               583 non-null float64\n",
      "Direct_Bilirubin              583 non-null float64\n",
      "Alkaline_Phosphotase          583 non-null int64\n",
      "Alamine_Aminotransferase      583 non-null int64\n",
      "Aspartate_Aminotransferase    583 non-null int64\n",
      "Total_Protiens                583 non-null float64\n",
      "Albumin                       583 non-null float64\n",
      "Albumin_and_Globulin_Ratio    583 non-null float64\n",
      "target                        583 non-null int64\n",
      "dtypes: float64(5), int64(5), object(1)\n",
      "memory usage: 50.2+ KB\n"
     ]
    }
   ],
   "source": [
    "df['Albumin_and_Globulin_Ratio'].fillna(df['Albumin_and_Globulin_Ratio'].mean(), inplace=True)\n",
    "df.info()"
   ]
  },
  {
   "cell_type": "markdown",
   "metadata": {},
   "source": [
    "#### b.\tDo variables have outliers? "
   ]
  },
  {
   "cell_type": "code",
   "execution_count": 16,
   "metadata": {},
   "outputs": [
    {
     "data": {
      "image/png": "[encoded data removed]",
      "text/plain": [
       "<Figure size 1080x1440 with 10 Axes>"
      ]
     },
     "metadata": {
      "needs_background": "light"
     },
     "output_type": "display_data"
    }
   ],
   "source": [
    "cols = df.select_dtypes(exclude='object')\n",
    "q=1\n",
    "plt.figure(figsize=(15,20))\n",
    "for col in cols:\n",
    "   plt.subplot(5,5,q)\n",
    "   ax = sns.boxplot(df[col],color='red')\n",
    "   plt.xlabel(col)\n",
    "   q+=1\n",
    "plt.show()"
   ]
  },
  {
   "cell_type": "markdown",
   "metadata": {},
   "source": [
    "There are outliers in our dataset but we are not removing off as of now."
   ]
  },
  {
   "cell_type": "markdown",
   "metadata": {},
   "source": [
    "#### c.\tIs the Target distributed evenly? Is it a defect? If Yes, what steps are being taken to rectify the problem"
   ]
  },
  {
   "cell_type": "code",
   "execution_count": 17,
   "metadata": {},
   "outputs": [
    {
     "data": {
      "image/png": "[encoded data removed]",
      "text/plain": [
       "<Figure size 432x288 with 1 Axes>"
      ]
     },
     "metadata": {
      "needs_background": "light"
     },
     "output_type": "display_data"
    }
   ],
   "source": [
    "plt.subplot(1,2,1)\n",
    "ax = sns.countplot(data=df, x='target')\n",
    "plt.title('Liver patient', fontsize=15)\n",
    "for i in ax.patches:\n",
    "    \n",
    "    ax.text(i.get_x()+0.3, i.get_height(), str(round(i.get_height(), 2)), fontsize=15, color='red')\n",
    "\n"
   ]
  },
  {
   "cell_type": "markdown",
   "metadata": {},
   "source": [
    "As we can observe that data is not balanced so we will balance it by smote or nearmiss."
   ]
  },
  {
   "cell_type": "code",
   "execution_count": 18,
   "metadata": {},
   "outputs": [
    {
     "name": "stdout",
     "output_type": "stream",
     "text": [
      "We will be using smote when we will splitting the dataset in train and test\n"
     ]
    }
   ],
   "source": [
    "print('We will be using smote when we will splitting the dataset in train and test')\n"
   ]
  },
  {
   "cell_type": "markdown",
   "metadata": {},
   "source": [
    "### 4.Summarize relationships among variables (10 marks)               "
   ]
  },
  {
   "cell_type": "markdown",
   "metadata": {},
   "source": [
    "#### a.\tPlot relevant categorical plots. Find out which are the variables most correlated or appear to be in causation with Target? Do you want to exclude some variables from the model based on this analysis? What other actions will you take?"
   ]
  },
  {
   "cell_type": "code",
   "execution_count": 19,
   "metadata": {},
   "outputs": [
    {
     "data": {
      "image/png": "[encoded data removed]",
      "text/plain": [
       "<Figure size 1440x720 with 2 Axes>"
      ]
     },
     "metadata": {
      "needs_background": "light"
     },
     "output_type": "display_data"
    }
   ],
   "source": [
    "plt.figure(figsize=(20, 10))\n",
    "sns.heatmap(df.corr(), cbar = True,  square = True, annot=True, fmt= '.2f',annot_kws={'size': 15},\n",
    "           cmap= 'coolwarm')\n",
    "plt.title('Correlation between features');"
   ]
  },
  {
   "cell_type": "markdown",
   "metadata": {},
   "source": [
    "#### The above correlation also indicates the following correlation\n",
    "##### Total_Protiens & Albumin\n",
    "##### Alamine_Aminotransferase & Aspartate_Aminotransferase\n",
    "##### Direct_Bilirubin & Total_Bilirubin\n",
    "##### There is some correlation between Albumin_and_Globulin_Ratio and Albumin. But its not as high as Total_Protiens & Albumin"
   ]
  },
  {
   "cell_type": "code",
   "execution_count": 20,
   "metadata": {},
   "outputs": [
    {
     "data": {
      "image/png": "[encoded data removed]",
      "text/plain": [
       "<Figure size 432x432 with 4 Axes>"
      ]
     },
     "metadata": {
      "needs_background": "light"
     },
     "output_type": "display_data"
    }
   ],
   "source": [
    "g = sns.FacetGrid(df, col=\"Gender\", row=\"target\", margin_titles=True)\n",
    "g.map(plt.scatter,\"Direct_Bilirubin\", \"Total_Bilirubin\", edgecolor=\"w\")\n",
    "plt.subplots_adjust(top=0.9)"
   ]
  },
  {
   "cell_type": "markdown",
   "metadata": {},
   "source": [
    "There seems to be direct relationship between Total_Bilirubin and Direct_Bilirubin. We have the possibility of removing one of this feature."
   ]
  },
  {
   "cell_type": "markdown",
   "metadata": {},
   "source": [
    "### b.\tPlot all independent variables with the target & find out the relationship? Perform the Relevant Tests to find out if the Independent variables are associated with the Target Variable."
   ]
  },
  {
   "cell_type": "code",
   "execution_count": 21,
   "metadata": {},
   "outputs": [
    {
     "data": {
      "image/png": "[encoded data removed]",
      "text/plain": [
       "<Figure size 1080x1800 with 9 Axes>"
      ]
     },
     "metadata": {
      "needs_background": "light"
     },
     "output_type": "display_data"
    }
   ],
   "source": [
    "# plotting all the dependent variables with target variable\n",
    "# plotting scatter plot of continous variable with target variable\n",
    "num_cols=['Age', 'Total_Bilirubin', 'Direct_Bilirubin',\n",
    "     'Alkaline_Phosphotase', 'Alamine_Aminotransferase', 'Aspartate_Aminotransferase', 'Total_Protiens',\n",
    "     'Albumin', 'Albumin_and_Globulin_Ratio']\n",
    "q=1\n",
    "plt.figure(figsize=(15,25))\n",
    "\n",
    "for i in num_cols:\n",
    "   plt.subplot(4,3,q)\n",
    "   plt.title(i)\n",
    "   plt.scatter(df[i],df[\"target\"])\n",
    "   plt.xlabel(i)\n",
    "   plt.ylabel(\"target\")\n",
    "   q+=1\n",
    "plt.show()"
   ]
  },
  {
   "cell_type": "markdown",
   "metadata": {},
   "source": [
    "As we can see the relationship of target variables with each variables in the dataset."
   ]
  },
  {
   "cell_type": "code",
   "execution_count": 22,
   "metadata": {},
   "outputs": [
    {
     "data": {
      "image/png": "[encoded data removed]",
      "text/plain": [
       "<Figure size 432x432 with 4 Axes>"
      ]
     },
     "metadata": {
      "needs_background": "light"
     },
     "output_type": "display_data"
    }
   ],
   "source": [
    "g = sns.FacetGrid(df, col=\"Gender\", row=\"target\", margin_titles=True)\n",
    "g.map(plt.scatter,\"Albumin_and_Globulin_Ratio\", \"Total_Protiens\",  edgecolor=\"w\")\n",
    "plt.subplots_adjust(top=0.9)"
   ]
  },
  {
   "cell_type": "code",
   "execution_count": 23,
   "metadata": {},
   "outputs": [
    {
     "data": {
      "text/plain": [
       "<seaborn.axisgrid.JointGrid at 0x7f06bb50d080>"
      ]
     },
     "execution_count": 23,
     "metadata": {},
     "output_type": "execute_result"
    },
    {
     "data": {
      "image/png": "[encoded data removed]",
      "text/plain": [
       "<Figure size 432x432 with 3 Axes>"
      ]
     },
     "metadata": {
      "needs_background": "light"
     },
     "output_type": "display_data"
    }
   ],
   "source": [
    "sns.jointplot(\"Albumin_and_Globulin_Ratio\", \"Albumin\", data=df, kind=\"reg\")"
   ]
  },
  {
   "cell_type": "markdown",
   "metadata": {},
   "source": [
    "From the above jointplots and scatterplots, we find direct relationship between the following features:\n",
    "Direct_Bilirubin & Total_Bilirubin\n",
    "Aspartate_Aminotransferase & Alamine_Aminotransferase\n",
    "Total_Protiens & Albumin\n",
    "Albumin_and_Globulin_Ratio & Albumin"
   ]
  },
  {
   "cell_type": "code",
   "execution_count": 24,
   "metadata": {},
   "outputs": [],
   "source": [
    "# Converting gender into dummies\n",
    "df = pd.get_dummies(df,columns = ['Gender'],drop_first = True)"
   ]
  },
  {
   "cell_type": "code",
   "execution_count": 25,
   "metadata": {},
   "outputs": [
    {
     "data": {
      "text/html": [
       "<div>\n",
       "<style scoped>\n",
       "    .dataframe tbody tr th:only-of-type {\n",
       "        vertical-align: middle;\n",
       "    }\n",
       "\n",
       "    .dataframe tbody tr th {\n",
       "        vertical-align: top;\n",
       "    }\n",
       "\n",
       "    .dataframe thead th {\n",
       "        text-align: right;\n",
       "    }\n",
       "</style>\n",
       "<table border=\"1\" class=\"dataframe\">\n",
       "  <thead>\n",
       "    <tr style=\"text-align: right;\">\n",
       "      <th></th>\n",
       "      <th>Age</th>\n",
       "      <th>Total_Bilirubin</th>\n",
       "      <th>Direct_Bilirubin</th>\n",
       "      <th>Alkaline_Phosphotase</th>\n",
       "      <th>Alamine_Aminotransferase</th>\n",
       "      <th>Aspartate_Aminotransferase</th>\n",
       "      <th>Total_Protiens</th>\n",
       "      <th>Albumin</th>\n",
       "      <th>Albumin_and_Globulin_Ratio</th>\n",
       "      <th>target</th>\n",
       "      <th>Gender_Male</th>\n",
       "    </tr>\n",
       "  </thead>\n",
       "  <tbody>\n",
       "    <tr>\n",
       "      <th>0</th>\n",
       "      <td>65</td>\n",
       "      <td>0.7</td>\n",
       "      <td>0.1</td>\n",
       "      <td>187</td>\n",
       "      <td>16</td>\n",
       "      <td>18</td>\n",
       "      <td>6.8</td>\n",
       "      <td>3.3</td>\n",
       "      <td>0.90</td>\n",
       "      <td>1</td>\n",
       "      <td>0</td>\n",
       "    </tr>\n",
       "    <tr>\n",
       "      <th>1</th>\n",
       "      <td>62</td>\n",
       "      <td>10.9</td>\n",
       "      <td>5.5</td>\n",
       "      <td>699</td>\n",
       "      <td>64</td>\n",
       "      <td>100</td>\n",
       "      <td>7.5</td>\n",
       "      <td>3.2</td>\n",
       "      <td>0.74</td>\n",
       "      <td>1</td>\n",
       "      <td>1</td>\n",
       "    </tr>\n",
       "    <tr>\n",
       "      <th>2</th>\n",
       "      <td>62</td>\n",
       "      <td>7.3</td>\n",
       "      <td>4.1</td>\n",
       "      <td>490</td>\n",
       "      <td>60</td>\n",
       "      <td>68</td>\n",
       "      <td>7.0</td>\n",
       "      <td>3.3</td>\n",
       "      <td>0.89</td>\n",
       "      <td>1</td>\n",
       "      <td>1</td>\n",
       "    </tr>\n",
       "    <tr>\n",
       "      <th>3</th>\n",
       "      <td>58</td>\n",
       "      <td>1.0</td>\n",
       "      <td>0.4</td>\n",
       "      <td>182</td>\n",
       "      <td>14</td>\n",
       "      <td>20</td>\n",
       "      <td>6.8</td>\n",
       "      <td>3.4</td>\n",
       "      <td>1.00</td>\n",
       "      <td>1</td>\n",
       "      <td>1</td>\n",
       "    </tr>\n",
       "    <tr>\n",
       "      <th>4</th>\n",
       "      <td>72</td>\n",
       "      <td>3.9</td>\n",
       "      <td>2.0</td>\n",
       "      <td>195</td>\n",
       "      <td>27</td>\n",
       "      <td>59</td>\n",
       "      <td>7.3</td>\n",
       "      <td>2.4</td>\n",
       "      <td>0.40</td>\n",
       "      <td>1</td>\n",
       "      <td>1</td>\n",
       "    </tr>\n",
       "  </tbody>\n",
       "</table>\n",
       "</div>"
      ],
      "text/plain": [
       "   Age  Total_Bilirubin  Direct_Bilirubin  Alkaline_Phosphotase  \\\n",
       "0   65              0.7               0.1                   187   \n",
       "1   62             10.9               5.5                   699   \n",
       "2   62              7.3               4.1                   490   \n",
       "3   58              1.0               0.4                   182   \n",
       "4   72              3.9               2.0                   195   \n",
       "\n",
       "   Alamine_Aminotransferase  Aspartate_Aminotransferase  Total_Protiens  \\\n",
       "0                        16                          18             6.8   \n",
       "1                        64                         100             7.5   \n",
       "2                        60                          68             7.0   \n",
       "3                        14                          20             6.8   \n",
       "4                        27                          59             7.3   \n",
       "\n",
       "   Albumin  Albumin_and_Globulin_Ratio  target  Gender_Male  \n",
       "0      3.3                        0.90       1            0  \n",
       "1      3.2                        0.74       1            1  \n",
       "2      3.3                        0.89       1            1  \n",
       "3      3.4                        1.00       1            1  \n",
       "4      2.4                        0.40       1            1  "
      ]
     },
     "execution_count": 25,
     "metadata": {},
     "output_type": "execute_result"
    }
   ],
   "source": [
    "df.head()"
   ]
  },
  {
   "cell_type": "markdown",
   "metadata": {},
   "source": [
    "### 5.Split dataset into train and test (70:30) \n",
    "#### a.\tAre both train and test representative of the overall data? How would you ascertain this statistically?\n",
    "\n"
   ]
  },
  {
   "cell_type": "code",
   "execution_count": 26,
   "metadata": {},
   "outputs": [],
   "source": [
    "import scipy.stats as st"
   ]
  },
  {
   "cell_type": "code",
   "execution_count": 27,
   "metadata": {},
   "outputs": [],
   "source": [
    "X=df.drop('target', axis=1)\n",
    "Y= df['target']"
   ]
  },
  {
   "cell_type": "code",
   "execution_count": 28,
   "metadata": {},
   "outputs": [
    {
     "data": {
      "text/plain": [
       "((408, 10), (408,))"
      ]
     },
     "execution_count": 28,
     "metadata": {},
     "output_type": "execute_result"
    }
   ],
   "source": [
    "from sklearn.model_selection import train_test_split\n",
    "X_train ,X_test, Y_train , Y_test = train_test_split(X , Y , test_size = 0.30 , random_state =42)\n",
    "X_train.shape , Y_train.shape"
   ]
  },
  {
   "cell_type": "markdown",
   "metadata": {},
   "source": [
    "H0:mu of Y_train=mu of Y_test =mu of Y\n",
    "H1:any one of them differs"
   ]
  },
  {
   "cell_type": "code",
   "execution_count": 29,
   "metadata": {},
   "outputs": [
    {
     "data": {
      "text/plain": [
       "F_onewayResult(statistic=0.19507743985612155, pvalue=0.8227978571185324)"
      ]
     },
     "execution_count": 29,
     "metadata": {},
     "output_type": "execute_result"
    }
   ],
   "source": [
    "st.f_oneway(Y_train,Y_test,Y)"
   ]
  },
  {
   "cell_type": "markdown",
   "metadata": {},
   "source": [
    "P value is greater than 0.05 so we are fai to reject null hypothesis.so mean are same of all."
   ]
  },
  {
   "cell_type": "markdown",
   "metadata": {},
   "source": [
    "### Fit a base model and explain the reason of selecting that model. Please write your key observations.\n",
    "#### a.\tWhat is the overall Accuracy? Please comment on whether it is good or not. \n",
    "#### b.\tWhat is Precision, Recall and F1 Score and what will be the optimization objective keeping in mind the problem statement.\n",
    "#### c.\tWhich variables are significant?\n",
    "#### d.\tWhat is Cohen’s Kappa Value and what inference do you make from the model\n",
    "#### e.\tWhich other key model output parameters do you want to look at? \n",
    "\n"
   ]
  },
  {
   "cell_type": "markdown",
   "metadata": {},
   "source": [
    "### Using base model Logistic Regression "
   ]
  },
  {
   "cell_type": "code",
   "execution_count": 30,
   "metadata": {},
   "outputs": [],
   "source": [
    "from sklearn.metrics import accuracy_score\n",
    "\n",
    "from sklearn.metrics import classification_report,confusion_matrix\n",
    "from sklearn import linear_model\n",
    "from sklearn.linear_model import LogisticRegression"
   ]
  },
  {
   "cell_type": "code",
   "execution_count": 31,
   "metadata": {},
   "outputs": [
    {
     "name": "stdout",
     "output_type": "stream",
     "text": [
      "Logistic Regression Training Score: \n",
      " 71.32\n",
      "Logistic Regression Test Score: \n",
      " 72.0\n",
      "Coefficient: \n",
      " [[-0.00800476 -0.00573585 -0.33200065 -0.00091534 -0.0108002  -0.00243341\n",
      "  -0.33687015  0.73742924 -0.12539079 -0.07363387]]\n",
      "Intercept: \n",
      " [0.62265535]\n",
      "Accuracy: \n",
      " 0.72\n",
      "Confusion Matrix: \n",
      " [[117  11]\n",
      " [ 38   9]]\n",
      "Classification Report: \n",
      "               precision    recall  f1-score   support\n",
      "\n",
      "           1       0.75      0.91      0.83       128\n",
      "           2       0.45      0.19      0.27        47\n",
      "\n",
      "    accuracy                           0.72       175\n",
      "   macro avg       0.60      0.55      0.55       175\n",
      "weighted avg       0.67      0.72      0.68       175\n",
      "\n"
     ]
    },
    {
     "name": "stderr",
     "output_type": "stream",
     "text": [
      "/opt/conda/lib/python3.6/site-packages/sklearn/linear_model/logistic.py:432: FutureWarning: Default solver will be changed to 'lbfgs' in 0.22. Specify a solver to silence this warning.\n",
      "  FutureWarning)\n"
     ]
    },
    {
     "data": {
      "text/plain": [
       "<matplotlib.axes._subplots.AxesSubplot at 0x7f06bb3e0cf8>"
      ]
     },
     "execution_count": 31,
     "metadata": {},
     "output_type": "execute_result"
    },
    {
     "data": {
      "image/png": "[encoded data removed]",
      "text/plain": [
       "<Figure size 432x288 with 2 Axes>"
      ]
     },
     "metadata": {
      "needs_background": "light"
     },
     "output_type": "display_data"
    }
   ],
   "source": [
    " ## using Logistic Regression\n",
    "# Create logistic regression object\n",
    "logreg = LogisticRegression()\n",
    "# Train the model using the training sets and check score\n",
    "logreg.fit(X_train, Y_train)\n",
    "#Predict Output\n",
    "log_predicted= logreg.predict(X_test)\n",
    "\n",
    "logreg_score = round(logreg.score(X_train, Y_train) * 100, 2)\n",
    "logreg_score_test = round(logreg.score(X_test, Y_test) * 100, 2)\n",
    "#Equation coefficient and Intercept\n",
    "print('Logistic Regression Training Score: \\n', logreg_score)\n",
    "print('Logistic Regression Test Score: \\n', logreg_score_test)\n",
    "print('Coefficient: \\n', logreg.coef_)\n",
    "print('Intercept: \\n', logreg.intercept_)\n",
    "print('Accuracy: \\n', accuracy_score(Y_test,log_predicted))\n",
    "print('Confusion Matrix: \\n', confusion_matrix(Y_test,log_predicted))\n",
    "print('Classification Report: \\n', classification_report(Y_test,log_predicted))\n",
    "\n",
    "sns.heatmap(confusion_matrix(Y_test,log_predicted),annot=True,fmt=\"d\")"
   ]
  },
  {
   "cell_type": "markdown",
   "metadata": {},
   "source": [
    "**Overall accuracy is the probability that an individual will be correctly classified by a test; that is, the sum of the true positives plus true negatives divided by the total number of individuals tested.**"
   ]
  },
  {
   "cell_type": "markdown",
   "metadata": {},
   "source": [
    "**Precision - Precision is the ratio of correctly predicted positive observations to the total predicted positive observations. The question that this metric answer is of all passengers that labeled as survived, how many actually survived? High precision relates to the low false positive rate. We have got 0.788 precision which is pretty good.**\n",
    "\n",
    "Precision = TP/TP+FP"
   ]
  },
  {
   "cell_type": "markdown",
   "metadata": {},
   "source": [
    "**Recall (Sensitivity) - Recall is the ratio of correctly predicted positive observations to the all observations in actual class.**\n",
    "\n",
    "Recall = TP/TP+FN"
   ]
  },
  {
   "cell_type": "markdown",
   "metadata": {},
   "source": [
    "**F1 score - F1 Score is the weighted average of Precision and Recall.**\n",
    "F1 Score = 2*(Recall * Precision) / (Recall + Precision)"
   ]
  },
  {
   "cell_type": "code",
   "execution_count": 32,
   "metadata": {},
   "outputs": [
    {
     "data": {
      "text/html": [
       "<style  type=\"text/css\" >\n",
       "    #T_72b9f6ca_15c5_11ea_945a_db6b9f7a8e05row0_col1 {\n",
       "            background-color:  #46327e;\n",
       "            color:  #f1f1f1;\n",
       "        }    #T_72b9f6ca_15c5_11ea_945a_db6b9f7a8e05row1_col1 {\n",
       "            background-color:  #46337f;\n",
       "            color:  #f1f1f1;\n",
       "        }    #T_72b9f6ca_15c5_11ea_945a_db6b9f7a8e05row2_col1 {\n",
       "            background-color:  #375b8d;\n",
       "            color:  #f1f1f1;\n",
       "        }    #T_72b9f6ca_15c5_11ea_945a_db6b9f7a8e05row3_col1 {\n",
       "            background-color:  #32648e;\n",
       "            color:  #f1f1f1;\n",
       "        }    #T_72b9f6ca_15c5_11ea_945a_db6b9f7a8e05row4_col1 {\n",
       "            background-color:  #2e6f8e;\n",
       "            color:  #f1f1f1;\n",
       "        }    #T_72b9f6ca_15c5_11ea_945a_db6b9f7a8e05row5_col1 {\n",
       "            background-color:  #2e6f8e;\n",
       "            color:  #f1f1f1;\n",
       "        }    #T_72b9f6ca_15c5_11ea_945a_db6b9f7a8e05row6_col1 {\n",
       "            background-color:  #2e6f8e;\n",
       "            color:  #f1f1f1;\n",
       "        }    #T_72b9f6ca_15c5_11ea_945a_db6b9f7a8e05row7_col1 {\n",
       "            background-color:  #2d708e;\n",
       "            color:  #f1f1f1;\n",
       "        }    #T_72b9f6ca_15c5_11ea_945a_db6b9f7a8e05row8_col1 {\n",
       "            background-color:  #2d708e;\n",
       "            color:  #f1f1f1;\n",
       "        }    #T_72b9f6ca_15c5_11ea_945a_db6b9f7a8e05row9_col1 {\n",
       "            background-color:  #a0da39;\n",
       "            color:  #000000;\n",
       "        }</style><table id=\"T_72b9f6ca_15c5_11ea_945a_db6b9f7a8e05\" ><thead>    <tr>        <th class=\"blank level0\" ></th>        <th class=\"col_heading level0 col0\" >Variable</th>        <th class=\"col_heading level0 col1\" >Coefficient</th>    </tr></thead><tbody>\n",
       "                <tr>\n",
       "                        <th id=\"T_72b9f6ca_15c5_11ea_945a_db6b9f7a8e05level0_row0\" class=\"row_heading level0 row0\" >6</th>\n",
       "                        <td id=\"T_72b9f6ca_15c5_11ea_945a_db6b9f7a8e05row0_col0\" class=\"data row0 col0\" >Total_Protiens</td>\n",
       "                        <td id=\"T_72b9f6ca_15c5_11ea_945a_db6b9f7a8e05row0_col1\" class=\"data row0 col1\" >-0.33687</td>\n",
       "            </tr>\n",
       "            <tr>\n",
       "                        <th id=\"T_72b9f6ca_15c5_11ea_945a_db6b9f7a8e05level0_row1\" class=\"row_heading level0 row1\" >2</th>\n",
       "                        <td id=\"T_72b9f6ca_15c5_11ea_945a_db6b9f7a8e05row1_col0\" class=\"data row1 col0\" >Direct_Bilirubin</td>\n",
       "                        <td id=\"T_72b9f6ca_15c5_11ea_945a_db6b9f7a8e05row1_col1\" class=\"data row1 col1\" >-0.332001</td>\n",
       "            </tr>\n",
       "            <tr>\n",
       "                        <th id=\"T_72b9f6ca_15c5_11ea_945a_db6b9f7a8e05level0_row2\" class=\"row_heading level0 row2\" >8</th>\n",
       "                        <td id=\"T_72b9f6ca_15c5_11ea_945a_db6b9f7a8e05row2_col0\" class=\"data row2 col0\" >Albumin_and_Globulin_Ratio</td>\n",
       "                        <td id=\"T_72b9f6ca_15c5_11ea_945a_db6b9f7a8e05row2_col1\" class=\"data row2 col1\" >-0.125391</td>\n",
       "            </tr>\n",
       "            <tr>\n",
       "                        <th id=\"T_72b9f6ca_15c5_11ea_945a_db6b9f7a8e05level0_row3\" class=\"row_heading level0 row3\" >9</th>\n",
       "                        <td id=\"T_72b9f6ca_15c5_11ea_945a_db6b9f7a8e05row3_col0\" class=\"data row3 col0\" >Gender_Male</td>\n",
       "                        <td id=\"T_72b9f6ca_15c5_11ea_945a_db6b9f7a8e05row3_col1\" class=\"data row3 col1\" >-0.0736339</td>\n",
       "            </tr>\n",
       "            <tr>\n",
       "                        <th id=\"T_72b9f6ca_15c5_11ea_945a_db6b9f7a8e05level0_row4\" class=\"row_heading level0 row4\" >4</th>\n",
       "                        <td id=\"T_72b9f6ca_15c5_11ea_945a_db6b9f7a8e05row4_col0\" class=\"data row4 col0\" >Alamine_Aminotransferase</td>\n",
       "                        <td id=\"T_72b9f6ca_15c5_11ea_945a_db6b9f7a8e05row4_col1\" class=\"data row4 col1\" >-0.0108002</td>\n",
       "            </tr>\n",
       "            <tr>\n",
       "                        <th id=\"T_72b9f6ca_15c5_11ea_945a_db6b9f7a8e05level0_row5\" class=\"row_heading level0 row5\" >0</th>\n",
       "                        <td id=\"T_72b9f6ca_15c5_11ea_945a_db6b9f7a8e05row5_col0\" class=\"data row5 col0\" >Age</td>\n",
       "                        <td id=\"T_72b9f6ca_15c5_11ea_945a_db6b9f7a8e05row5_col1\" class=\"data row5 col1\" >-0.00800476</td>\n",
       "            </tr>\n",
       "            <tr>\n",
       "                        <th id=\"T_72b9f6ca_15c5_11ea_945a_db6b9f7a8e05level0_row6\" class=\"row_heading level0 row6\" >1</th>\n",
       "                        <td id=\"T_72b9f6ca_15c5_11ea_945a_db6b9f7a8e05row6_col0\" class=\"data row6 col0\" >Total_Bilirubin</td>\n",
       "                        <td id=\"T_72b9f6ca_15c5_11ea_945a_db6b9f7a8e05row6_col1\" class=\"data row6 col1\" >-0.00573585</td>\n",
       "            </tr>\n",
       "            <tr>\n",
       "                        <th id=\"T_72b9f6ca_15c5_11ea_945a_db6b9f7a8e05level0_row7\" class=\"row_heading level0 row7\" >5</th>\n",
       "                        <td id=\"T_72b9f6ca_15c5_11ea_945a_db6b9f7a8e05row7_col0\" class=\"data row7 col0\" >Aspartate_Aminotransferase</td>\n",
       "                        <td id=\"T_72b9f6ca_15c5_11ea_945a_db6b9f7a8e05row7_col1\" class=\"data row7 col1\" >-0.00243341</td>\n",
       "            </tr>\n",
       "            <tr>\n",
       "                        <th id=\"T_72b9f6ca_15c5_11ea_945a_db6b9f7a8e05level0_row8\" class=\"row_heading level0 row8\" >3</th>\n",
       "                        <td id=\"T_72b9f6ca_15c5_11ea_945a_db6b9f7a8e05row8_col0\" class=\"data row8 col0\" >Alkaline_Phosphotase</td>\n",
       "                        <td id=\"T_72b9f6ca_15c5_11ea_945a_db6b9f7a8e05row8_col1\" class=\"data row8 col1\" >-0.000915338</td>\n",
       "            </tr>\n",
       "            <tr>\n",
       "                        <th id=\"T_72b9f6ca_15c5_11ea_945a_db6b9f7a8e05level0_row9\" class=\"row_heading level0 row9\" >7</th>\n",
       "                        <td id=\"T_72b9f6ca_15c5_11ea_945a_db6b9f7a8e05row9_col0\" class=\"data row9 col0\" >Albumin</td>\n",
       "                        <td id=\"T_72b9f6ca_15c5_11ea_945a_db6b9f7a8e05row9_col1\" class=\"data row9 col1\" >0.737429</td>\n",
       "            </tr>\n",
       "    </tbody></table>"
      ],
      "text/plain": [
       "<pandas.io.formats.style.Styler at 0x7f06bb6d4898>"
      ]
     },
     "execution_count": 32,
     "metadata": {},
     "output_type": "execute_result"
    }
   ],
   "source": [
    "# reading the coefficient parameters\n",
    "pd.DataFrame(zip(list(X_train.columns),list(logreg.coef_[0])), columns=[\"Variable\",\"Coefficient\"])\\\n",
    ".sort_values('Coefficient').style.background_gradient(cmap='viridis', low=0.2, high=0.2)\n"
   ]
  },
  {
   "cell_type": "code",
   "execution_count": 33,
   "metadata": {},
   "outputs": [],
   "source": [
    "from sklearn.metrics import cohen_kappa_score"
   ]
  },
  {
   "cell_type": "code",
   "execution_count": 34,
   "metadata": {},
   "outputs": [
    {
     "name": "stdout",
     "output_type": "stream",
     "text": [
      "Cohen Kappa Score on this model 0.12899949212798367\n"
     ]
    }
   ],
   "source": [
    "print('Cohen Kappa Score on this model',cohen_kappa_score(Y_test,log_predicted))"
   ]
  },
  {
   "cell_type": "markdown",
   "metadata": {},
   "source": [
    "Cohen's kappa coefficient is a statistic that is used to measure inter-rater reliability for qualitative items. It is generally thought to be a more robust measure than simple percent agreement calculation, as κ takes into account the possibility of the agreement occurring by chance. "
   ]
  },
  {
   "cell_type": "code",
   "execution_count": 35,
   "metadata": {},
   "outputs": [
    {
     "name": "stdout",
     "output_type": "stream",
     "text": [
      "Coefficients: [[-0.00800476 -0.00573585 -0.33200065 -0.00091534 -0.0108002  -0.00243341\n",
      "  -0.33687015  0.73742924 -0.12539079 -0.07363387]]\n",
      "Intercept: [0.62265535]\n",
      "R^2 score: 0.7152658662092625\n"
     ]
    }
   ],
   "source": [
    "\n",
    "print(f'Coefficients: {logreg.coef_}')\n",
    "print(f'Intercept: {logreg.intercept_}')\n",
    "print(f'R^2 score: {logreg.score(X, Y)}')"
   ]
  },
  {
   "cell_type": "markdown",
   "metadata": {},
   "source": [
    "### 7. How do you improve the accuracy of the model? Write clearly the changes that you will make before re-fitting the model. Fit the final model. \n",
    "#### Please feel free to have any number of iterations to get to the final answer. Marks are awarded based on the quality of final model you are able to achieve. \n",
    "\n"
   ]
  },
  {
   "cell_type": "markdown",
   "metadata": {},
   "source": [
    "## Iteration 1"
   ]
  },
  {
   "cell_type": "code",
   "execution_count": 36,
   "metadata": {},
   "outputs": [],
   "source": [
    "# Hyper parameter tuning for logistic regression"
   ]
  },
  {
   "cell_type": "code",
   "execution_count": 37,
   "metadata": {},
   "outputs": [],
   "source": [
    "from sklearn.model_selection import GridSearchCV\n",
    "from sklearn.preprocessing import StandardScaler, LabelEncoder, binarize\n",
    "from sklearn.metrics import confusion_matrix, classification_report, accuracy_score, balanced_accuracy_score, precision_score, recall_score, f1_score, cohen_kappa_score, roc_auc_score, roc_curve\n"
   ]
  },
  {
   "cell_type": "code",
   "execution_count": 38,
   "metadata": {},
   "outputs": [
    {
     "name": "stderr",
     "output_type": "stream",
     "text": [
      "/opt/conda/lib/python3.6/site-packages/sklearn/linear_model/logistic.py:432: FutureWarning: Default solver will be changed to 'lbfgs' in 0.22. Specify a solver to silence this warning.\n",
      "  FutureWarning)\n",
      "/opt/conda/lib/python3.6/site-packages/sklearn/linear_model/logistic.py:432: FutureWarning: Default solver will be changed to 'lbfgs' in 0.22. Specify a solver to silence this warning.\n",
      "  FutureWarning)\n",
      "/opt/conda/lib/python3.6/site-packages/sklearn/linear_model/logistic.py:432: FutureWarning: Default solver will be changed to 'lbfgs' in 0.22. Specify a solver to silence this warning.\n",
      "  FutureWarning)\n",
      "/opt/conda/lib/python3.6/site-packages/sklearn/linear_model/logistic.py:432: FutureWarning: Default solver will be changed to 'lbfgs' in 0.22. Specify a solver to silence this warning.\n",
      "  FutureWarning)\n",
      "/opt/conda/lib/python3.6/site-packages/sklearn/linear_model/logistic.py:432: FutureWarning: Default solver will be changed to 'lbfgs' in 0.22. Specify a solver to silence this warning.\n",
      "  FutureWarning)\n",
      "/opt/conda/lib/python3.6/site-packages/sklearn/linear_model/logistic.py:432: FutureWarning: Default solver will be changed to 'lbfgs' in 0.22. Specify a solver to silence this warning.\n",
      "  FutureWarning)\n",
      "/opt/conda/lib/python3.6/site-packages/sklearn/linear_model/logistic.py:432: FutureWarning: Default solver will be changed to 'lbfgs' in 0.22. Specify a solver to silence this warning.\n",
      "  FutureWarning)\n",
      "/opt/conda/lib/python3.6/site-packages/sklearn/linear_model/logistic.py:432: FutureWarning: Default solver will be changed to 'lbfgs' in 0.22. Specify a solver to silence this warning.\n",
      "  FutureWarning)\n",
      "/opt/conda/lib/python3.6/site-packages/sklearn/linear_model/logistic.py:432: FutureWarning: Default solver will be changed to 'lbfgs' in 0.22. Specify a solver to silence this warning.\n",
      "  FutureWarning)\n",
      "/opt/conda/lib/python3.6/site-packages/sklearn/linear_model/logistic.py:432: FutureWarning: Default solver will be changed to 'lbfgs' in 0.22. Specify a solver to silence this warning.\n",
      "  FutureWarning)\n",
      "/opt/conda/lib/python3.6/site-packages/sklearn/linear_model/logistic.py:432: FutureWarning: Default solver will be changed to 'lbfgs' in 0.22. Specify a solver to silence this warning.\n",
      "  FutureWarning)\n",
      "/opt/conda/lib/python3.6/site-packages/sklearn/linear_model/logistic.py:432: FutureWarning: Default solver will be changed to 'lbfgs' in 0.22. Specify a solver to silence this warning.\n",
      "  FutureWarning)\n",
      "/opt/conda/lib/python3.6/site-packages/sklearn/linear_model/logistic.py:432: FutureWarning: Default solver will be changed to 'lbfgs' in 0.22. Specify a solver to silence this warning.\n",
      "  FutureWarning)\n",
      "/opt/conda/lib/python3.6/site-packages/sklearn/linear_model/logistic.py:432: FutureWarning: Default solver will be changed to 'lbfgs' in 0.22. Specify a solver to silence this warning.\n",
      "  FutureWarning)\n",
      "/opt/conda/lib/python3.6/site-packages/sklearn/linear_model/logistic.py:432: FutureWarning: Default solver will be changed to 'lbfgs' in 0.22. Specify a solver to silence this warning.\n",
      "  FutureWarning)\n",
      "/opt/conda/lib/python3.6/site-packages/sklearn/linear_model/logistic.py:432: FutureWarning: Default solver will be changed to 'lbfgs' in 0.22. Specify a solver to silence this warning.\n",
      "  FutureWarning)\n",
      "/opt/conda/lib/python3.6/site-packages/sklearn/linear_model/logistic.py:432: FutureWarning: Default solver will be changed to 'lbfgs' in 0.22. Specify a solver to silence this warning.\n",
      "  FutureWarning)\n",
      "/opt/conda/lib/python3.6/site-packages/sklearn/linear_model/logistic.py:432: FutureWarning: Default solver will be changed to 'lbfgs' in 0.22. Specify a solver to silence this warning.\n",
      "  FutureWarning)\n",
      "/opt/conda/lib/python3.6/site-packages/sklearn/linear_model/logistic.py:432: FutureWarning: Default solver will be changed to 'lbfgs' in 0.22. Specify a solver to silence this warning.\n",
      "  FutureWarning)\n",
      "/opt/conda/lib/python3.6/site-packages/sklearn/linear_model/logistic.py:432: FutureWarning: Default solver will be changed to 'lbfgs' in 0.22. Specify a solver to silence this warning.\n",
      "  FutureWarning)\n",
      "/opt/conda/lib/python3.6/site-packages/sklearn/linear_model/logistic.py:432: FutureWarning: Default solver will be changed to 'lbfgs' in 0.22. Specify a solver to silence this warning.\n",
      "  FutureWarning)\n",
      "/opt/conda/lib/python3.6/site-packages/sklearn/linear_model/logistic.py:432: FutureWarning: Default solver will be changed to 'lbfgs' in 0.22. Specify a solver to silence this warning.\n",
      "  FutureWarning)\n",
      "/opt/conda/lib/python3.6/site-packages/sklearn/linear_model/logistic.py:432: FutureWarning: Default solver will be changed to 'lbfgs' in 0.22. Specify a solver to silence this warning.\n",
      "  FutureWarning)\n",
      "/opt/conda/lib/python3.6/site-packages/sklearn/linear_model/logistic.py:432: FutureWarning: Default solver will be changed to 'lbfgs' in 0.22. Specify a solver to silence this warning.\n",
      "  FutureWarning)\n",
      "/opt/conda/lib/python3.6/site-packages/sklearn/linear_model/logistic.py:432: FutureWarning: Default solver will be changed to 'lbfgs' in 0.22. Specify a solver to silence this warning.\n",
      "  FutureWarning)\n",
      "/opt/conda/lib/python3.6/site-packages/sklearn/linear_model/logistic.py:432: FutureWarning: Default solver will be changed to 'lbfgs' in 0.22. Specify a solver to silence this warning.\n",
      "  FutureWarning)\n",
      "/opt/conda/lib/python3.6/site-packages/sklearn/linear_model/logistic.py:432: FutureWarning: Default solver will be changed to 'lbfgs' in 0.22. Specify a solver to silence this warning.\n",
      "  FutureWarning)\n",
      "/opt/conda/lib/python3.6/site-packages/sklearn/linear_model/logistic.py:432: FutureWarning: Default solver will be changed to 'lbfgs' in 0.22. Specify a solver to silence this warning.\n",
      "  FutureWarning)\n",
      "/opt/conda/lib/python3.6/site-packages/sklearn/linear_model/logistic.py:432: FutureWarning: Default solver will be changed to 'lbfgs' in 0.22. Specify a solver to silence this warning.\n",
      "  FutureWarning)\n",
      "/opt/conda/lib/python3.6/site-packages/sklearn/linear_model/logistic.py:432: FutureWarning: Default solver will be changed to 'lbfgs' in 0.22. Specify a solver to silence this warning.\n",
      "  FutureWarning)\n",
      "/opt/conda/lib/python3.6/site-packages/sklearn/linear_model/logistic.py:432: FutureWarning: Default solver will be changed to 'lbfgs' in 0.22. Specify a solver to silence this warning.\n",
      "  FutureWarning)\n",
      "/opt/conda/lib/python3.6/site-packages/sklearn/linear_model/logistic.py:432: FutureWarning: Default solver will be changed to 'lbfgs' in 0.22. Specify a solver to silence this warning.\n",
      "  FutureWarning)\n",
      "/opt/conda/lib/python3.6/site-packages/sklearn/linear_model/logistic.py:432: FutureWarning: Default solver will be changed to 'lbfgs' in 0.22. Specify a solver to silence this warning.\n",
      "  FutureWarning)\n",
      "/opt/conda/lib/python3.6/site-packages/sklearn/linear_model/logistic.py:432: FutureWarning: Default solver will be changed to 'lbfgs' in 0.22. Specify a solver to silence this warning.\n",
      "  FutureWarning)\n",
      "/opt/conda/lib/python3.6/site-packages/sklearn/linear_model/logistic.py:432: FutureWarning: Default solver will be changed to 'lbfgs' in 0.22. Specify a solver to silence this warning.\n",
      "  FutureWarning)\n",
      "/opt/conda/lib/python3.6/site-packages/sklearn/linear_model/logistic.py:432: FutureWarning: Default solver will be changed to 'lbfgs' in 0.22. Specify a solver to silence this warning.\n",
      "  FutureWarning)\n",
      "/opt/conda/lib/python3.6/site-packages/sklearn/linear_model/logistic.py:432: FutureWarning: Default solver will be changed to 'lbfgs' in 0.22. Specify a solver to silence this warning.\n",
      "  FutureWarning)\n",
      "/opt/conda/lib/python3.6/site-packages/sklearn/linear_model/logistic.py:432: FutureWarning: Default solver will be changed to 'lbfgs' in 0.22. Specify a solver to silence this warning.\n",
      "  FutureWarning)\n",
      "/opt/conda/lib/python3.6/site-packages/sklearn/linear_model/logistic.py:432: FutureWarning: Default solver will be changed to 'lbfgs' in 0.22. Specify a solver to silence this warning.\n",
      "  FutureWarning)\n",
      "/opt/conda/lib/python3.6/site-packages/sklearn/linear_model/logistic.py:432: FutureWarning: Default solver will be changed to 'lbfgs' in 0.22. Specify a solver to silence this warning.\n",
      "  FutureWarning)\n",
      "/opt/conda/lib/python3.6/site-packages/sklearn/linear_model/logistic.py:432: FutureWarning: Default solver will be changed to 'lbfgs' in 0.22. Specify a solver to silence this warning.\n",
      "  FutureWarning)\n",
      "/opt/conda/lib/python3.6/site-packages/sklearn/linear_model/logistic.py:432: FutureWarning: Default solver will be changed to 'lbfgs' in 0.22. Specify a solver to silence this warning.\n",
      "  FutureWarning)\n",
      "/opt/conda/lib/python3.6/site-packages/sklearn/linear_model/logistic.py:432: FutureWarning: Default solver will be changed to 'lbfgs' in 0.22. Specify a solver to silence this warning.\n",
      "  FutureWarning)\n",
      "/opt/conda/lib/python3.6/site-packages/sklearn/linear_model/logistic.py:432: FutureWarning: Default solver will be changed to 'lbfgs' in 0.22. Specify a solver to silence this warning.\n",
      "  FutureWarning)\n",
      "/opt/conda/lib/python3.6/site-packages/sklearn/linear_model/logistic.py:432: FutureWarning: Default solver will be changed to 'lbfgs' in 0.22. Specify a solver to silence this warning.\n",
      "  FutureWarning)\n",
      "/opt/conda/lib/python3.6/site-packages/sklearn/linear_model/logistic.py:432: FutureWarning: Default solver will be changed to 'lbfgs' in 0.22. Specify a solver to silence this warning.\n",
      "  FutureWarning)\n",
      "/opt/conda/lib/python3.6/site-packages/sklearn/linear_model/logistic.py:432: FutureWarning: Default solver will be changed to 'lbfgs' in 0.22. Specify a solver to silence this warning.\n",
      "  FutureWarning)\n",
      "/opt/conda/lib/python3.6/site-packages/sklearn/linear_model/logistic.py:432: FutureWarning: Default solver will be changed to 'lbfgs' in 0.22. Specify a solver to silence this warning.\n",
      "  FutureWarning)\n",
      "/opt/conda/lib/python3.6/site-packages/sklearn/linear_model/logistic.py:432: FutureWarning: Default solver will be changed to 'lbfgs' in 0.22. Specify a solver to silence this warning.\n",
      "  FutureWarning)\n"
     ]
    },
    {
     "data": {
      "text/html": [
       "<div>\n",
       "<style scoped>\n",
       "    .dataframe tbody tr th:only-of-type {\n",
       "        vertical-align: middle;\n",
       "    }\n",
       "\n",
       "    .dataframe tbody tr th {\n",
       "        vertical-align: top;\n",
       "    }\n",
       "\n",
       "    .dataframe thead th {\n",
       "        text-align: right;\n",
       "    }\n",
       "</style>\n",
       "<table border=\"1\" class=\"dataframe\">\n",
       "  <thead>\n",
       "    <tr style=\"text-align: right;\">\n",
       "      <th></th>\n",
       "      <th>param_C</th>\n",
       "      <th>param_penalty</th>\n",
       "      <th>mean_train_score</th>\n",
       "      <th>mean_test_score</th>\n",
       "      <th>train_test_diff</th>\n",
       "    </tr>\n",
       "  </thead>\n",
       "  <tbody>\n",
       "    <tr>\n",
       "      <th>0</th>\n",
       "      <td>0.001</td>\n",
       "      <td>l1</td>\n",
       "      <td>0.724506</td>\n",
       "      <td>0.723725</td>\n",
       "      <td>0.000781</td>\n",
       "    </tr>\n",
       "    <tr>\n",
       "      <th>3</th>\n",
       "      <td>0.01</td>\n",
       "      <td>l2</td>\n",
       "      <td>0.756250</td>\n",
       "      <td>0.751926</td>\n",
       "      <td>0.004323</td>\n",
       "    </tr>\n",
       "    <tr>\n",
       "      <th>4</th>\n",
       "      <td>0.1</td>\n",
       "      <td>l1</td>\n",
       "      <td>0.755964</td>\n",
       "      <td>0.750376</td>\n",
       "      <td>0.005588</td>\n",
       "    </tr>\n",
       "    <tr>\n",
       "      <th>1</th>\n",
       "      <td>0.001</td>\n",
       "      <td>l2</td>\n",
       "      <td>0.752681</td>\n",
       "      <td>0.746719</td>\n",
       "      <td>0.005962</td>\n",
       "    </tr>\n",
       "    <tr>\n",
       "      <th>5</th>\n",
       "      <td>0.1</td>\n",
       "      <td>l2</td>\n",
       "      <td>0.760503</td>\n",
       "      <td>0.748754</td>\n",
       "      <td>0.011749</td>\n",
       "    </tr>\n",
       "    <tr>\n",
       "      <th>2</th>\n",
       "      <td>0.01</td>\n",
       "      <td>l1</td>\n",
       "      <td>0.733843</td>\n",
       "      <td>0.721195</td>\n",
       "      <td>0.012648</td>\n",
       "    </tr>\n",
       "    <tr>\n",
       "      <th>6</th>\n",
       "      <td>1</td>\n",
       "      <td>l1</td>\n",
       "      <td>0.767024</td>\n",
       "      <td>0.748660</td>\n",
       "      <td>0.018364</td>\n",
       "    </tr>\n",
       "    <tr>\n",
       "      <th>7</th>\n",
       "      <td>1</td>\n",
       "      <td>l2</td>\n",
       "      <td>0.767316</td>\n",
       "      <td>0.746071</td>\n",
       "      <td>0.021245</td>\n",
       "    </tr>\n",
       "    <tr>\n",
       "      <th>8</th>\n",
       "      <td>10</td>\n",
       "      <td>l1</td>\n",
       "      <td>0.772722</td>\n",
       "      <td>0.749828</td>\n",
       "      <td>0.022894</td>\n",
       "    </tr>\n",
       "    <tr>\n",
       "      <th>10</th>\n",
       "      <td>100</td>\n",
       "      <td>l1</td>\n",
       "      <td>0.773464</td>\n",
       "      <td>0.749708</td>\n",
       "      <td>0.023756</td>\n",
       "    </tr>\n",
       "    <tr>\n",
       "      <th>11</th>\n",
       "      <td>100</td>\n",
       "      <td>l2</td>\n",
       "      <td>0.773527</td>\n",
       "      <td>0.749645</td>\n",
       "      <td>0.023883</td>\n",
       "    </tr>\n",
       "    <tr>\n",
       "      <th>9</th>\n",
       "      <td>10</td>\n",
       "      <td>l2</td>\n",
       "      <td>0.772498</td>\n",
       "      <td>0.748162</td>\n",
       "      <td>0.024336</td>\n",
       "    </tr>\n",
       "  </tbody>\n",
       "</table>\n",
       "</div>"
      ],
      "text/plain": [
       "   param_C param_penalty  mean_train_score  mean_test_score  train_test_diff\n",
       "0    0.001            l1          0.724506         0.723725         0.000781\n",
       "3     0.01            l2          0.756250         0.751926         0.004323\n",
       "4      0.1            l1          0.755964         0.750376         0.005588\n",
       "1    0.001            l2          0.752681         0.746719         0.005962\n",
       "5      0.1            l2          0.760503         0.748754         0.011749\n",
       "2     0.01            l1          0.733843         0.721195         0.012648\n",
       "6        1            l1          0.767024         0.748660         0.018364\n",
       "7        1            l2          0.767316         0.746071         0.021245\n",
       "8       10            l1          0.772722         0.749828         0.022894\n",
       "10     100            l1          0.773464         0.749708         0.023756\n",
       "11     100            l2          0.773527         0.749645         0.023883\n",
       "9       10            l2          0.772498         0.748162         0.024336"
      ]
     },
     "execution_count": 38,
     "metadata": {},
     "output_type": "execute_result"
    }
   ],
   "source": [
    "# creating parameter grid\n",
    "dict_params = {\"penalty\" : [\"l1\", \"l2\"],\n",
    "               \"C\" : [0.001, 0.01, 0.1, 1, 10, 100]}\n",
    "\n",
    "# hyperparameter tuning\n",
    "base_model = LogisticRegression()\n",
    "model_tuning = GridSearchCV(base_model, param_grid=dict_params, scoring=\"roc_auc\", cv=4, return_train_score=True)\n",
    "model_tuning.fit(X,Y)\n",
    "\n",
    "# model results\n",
    "cv_results = pd.DataFrame(model_tuning.cv_results_)\n",
    "cv_results['train_test_diff'] = cv_results['mean_train_score'] - cv_results['mean_test_score']\n",
    "cv_results.sort_values('train_test_diff')[[\"param_C\",\"param_penalty\",\"mean_train_score\",\"mean_test_score\",'train_test_diff']]"
   ]
  },
  {
   "cell_type": "code",
   "execution_count": 39,
   "metadata": {},
   "outputs": [
    {
     "data": {
      "image/png": "[encoded data removed]",
      "text/plain": [
       "<Figure size 432x288 with 1 Axes>"
      ]
     },
     "metadata": {
      "needs_background": "light"
     },
     "output_type": "display_data"
    }
   ],
   "source": [
    "# visualizing training and testing accuracy\n",
    "plt.plot(cv_results.index+1, cv_results[\"mean_test_score\"], label=\"test score\")\n",
    "plt.plot(cv_results.index+1, cv_results[\"mean_train_score\"], label=\"train score\")\n",
    "plt.title(\"Training vs. Test score\")\n",
    "plt.ylabel(\"ROC AUC Score\")\n",
    "plt.xlabel(\"Iteration\")\n",
    "plt.legend()\n",
    "plt.grid()\n",
    "plt.show()"
   ]
  },
  {
   "cell_type": "code",
   "execution_count": 40,
   "metadata": {},
   "outputs": [
    {
     "name": "stderr",
     "output_type": "stream",
     "text": [
      "/opt/conda/lib/python3.6/site-packages/sklearn/linear_model/logistic.py:432: FutureWarning: Default solver will be changed to 'lbfgs' in 0.22. Specify a solver to silence this warning.\n",
      "  FutureWarning)\n"
     ]
    }
   ],
   "source": [
    "# fitting model with best params\n",
    "model_logit = LogisticRegression(penalty='l1', C=100)\n",
    "model_logit.fit(X_train, Y_train)\n",
    "y_pred = model_logit.predict(X_test)"
   ]
  },
  {
   "cell_type": "code",
   "execution_count": 41,
   "metadata": {},
   "outputs": [
    {
     "data": {
      "image/png": "[encoded data removed]",
      "text/plain": [
       "<Figure size 360x360 with 1 Axes>"
      ]
     },
     "metadata": {
      "needs_background": "light"
     },
     "output_type": "display_data"
    },
    {
     "name": "stdout",
     "output_type": "stream",
     "text": [
      "         Predicted:0 Predicted:1\n",
      "Actual:0          TN          FP\n",
      "Actual:1          FN          TP\n"
     ]
    }
   ],
   "source": [
    "# confusion matrix\n",
    "cm = pd.DataFrame(confusion_matrix(Y_test,y_pred), columns=['Predicted:0','Predicted:1'], index=['Actual:0','Actual:1'])\n",
    "\n",
    "# plotting test results confusion matrix\n",
    "plt.figure(figsize=(5,5))\n",
    "sns.heatmap(cm, cmap=\"RdYlGn\", annot=True, cbar=False, square=True)\n",
    "plt.xlabel(\"Predicted values\", fontsize=12)\n",
    "plt.ylabel(\"Actual values\", fontsize=12)\n",
    "plt.title(\"Test results\", fontsize=20)\n",
    "plt.show()\n",
    "\n",
    "cm_reference = pd.DataFrame(np.array([\"TN\",\"FP\",\"FN\",\"TP\"]).reshape(2,2), columns=['Predicted:0','Predicted:1'], index=['Actual:0','Actual:1'])\n",
    "print(cm_reference)"
   ]
  },
  {
   "cell_type": "code",
   "execution_count": 42,
   "metadata": {},
   "outputs": [
    {
     "name": "stdout",
     "output_type": "stream",
     "text": [
      "True positives: 13\n",
      "True negatives: 116\n",
      "False positives (Type I error): 12\n",
      "False negatives (Type II error): 34\n"
     ]
    }
   ],
   "source": [
    "# calculating TP,TN,FP,FN\n",
    "TN, FP, FN, TP = cm.iloc[0,0], cm.iloc[0,1], cm.iloc[1,0], cm.iloc[1,1]\n",
    "\n",
    "# print values\n",
    "print(\"True positives:\", TP)\n",
    "print(\"True negatives:\", TN)\n",
    "print(\"False positives (Type I error):\", FP)\n",
    "print(\"False negatives (Type II error):\", FN)"
   ]
  },
  {
   "cell_type": "code",
   "execution_count": 43,
   "metadata": {},
   "outputs": [],
   "source": [
    "df_results = pd.DataFrame(columns=['Description','Misclassifications','Type I errors','Type II errors','Precision','Recall','Accuracy','F1-score','ROC AUC'])"
   ]
  },
  {
   "cell_type": "code",
   "execution_count": 44,
   "metadata": {},
   "outputs": [
    {
     "data": {
      "text/html": [
       "<div>\n",
       "<style scoped>\n",
       "    .dataframe tbody tr th:only-of-type {\n",
       "        vertical-align: middle;\n",
       "    }\n",
       "\n",
       "    .dataframe tbody tr th {\n",
       "        vertical-align: top;\n",
       "    }\n",
       "\n",
       "    .dataframe thead th {\n",
       "        text-align: right;\n",
       "    }\n",
       "</style>\n",
       "<table border=\"1\" class=\"dataframe\">\n",
       "  <thead>\n",
       "    <tr style=\"text-align: right;\">\n",
       "      <th></th>\n",
       "      <th>Description</th>\n",
       "      <th>Misclassifications</th>\n",
       "      <th>Type I errors</th>\n",
       "      <th>Type II errors</th>\n",
       "      <th>Precision</th>\n",
       "      <th>Recall</th>\n",
       "      <th>Accuracy</th>\n",
       "      <th>F1-score</th>\n",
       "      <th>ROC AUC</th>\n",
       "    </tr>\n",
       "  </thead>\n",
       "  <tbody>\n",
       "    <tr>\n",
       "      <th>0</th>\n",
       "      <td>Logit with hyperparamter tuning</td>\n",
       "      <td>46</td>\n",
       "      <td>12</td>\n",
       "      <td>34</td>\n",
       "      <td>0.77</td>\n",
       "      <td>0.91</td>\n",
       "      <td>0.74</td>\n",
       "      <td>0.83</td>\n",
       "      <td>0.59</td>\n",
       "    </tr>\n",
       "  </tbody>\n",
       "</table>\n",
       "</div>"
      ],
      "text/plain": [
       "                       Description Misclassifications Type I errors  \\\n",
       "0  Logit with hyperparamter tuning                 46            12   \n",
       "\n",
       "  Type II errors Precision Recall Accuracy F1-score ROC AUC  \n",
       "0             34      0.77   0.91     0.74     0.83    0.59  "
      ]
     },
     "execution_count": 44,
     "metadata": {},
     "output_type": "execute_result"
    }
   ],
   "source": [
    "# itereation results\n",
    "description = \"Logit with hyperparamter tuning\"\n",
    "misclassifications = FP + FN\n",
    "type1 = FP\n",
    "type2 = FN\n",
    "precision = round(precision_score(Y_test,y_pred),2)\n",
    "recall = round(recall_score(Y_test,y_pred),2)\n",
    "accuracy = round(accuracy_score(Y_test,y_pred),2)\n",
    "f1 = round(f1_score(Y_test,y_pred),2)\n",
    "auc = round(roc_auc_score(Y_test,y_pred),2)\n",
    "\n",
    "df_results = pd.concat([df_results,\n",
    "                        pd.DataFrame(np.array([description,\n",
    "                                     misclassifications,\n",
    "                                     type1,\n",
    "                                     type2,\n",
    "                                     precision,\n",
    "                                     recall,\n",
    "                                     accuracy,\n",
    "                                     f1,\n",
    "                                     auc]).reshape(1,-1), columns=['Description','Misclassifications','Type I errors','Type II errors','Precision','Recall','Accuracy','F1-score','ROC AUC'])\n",
    "                                  ], axis=0)\n",
    "\n",
    "df_results"
   ]
  },
  {
   "cell_type": "markdown",
   "metadata": {},
   "source": [
    "## Iteration 2"
   ]
  },
  {
   "cell_type": "code",
   "execution_count": 45,
   "metadata": {},
   "outputs": [
    {
     "data": {
      "text/plain": [
       "KNeighborsClassifier(algorithm='auto', leaf_size=30, metric='minkowski',\n",
       "                     metric_params=None, n_jobs=None, n_neighbors=5, p=2,\n",
       "                     weights='uniform')"
      ]
     },
     "execution_count": 45,
     "metadata": {},
     "output_type": "execute_result"
    }
   ],
   "source": [
    "from sklearn.neighbors import KNeighborsClassifier\n",
    "\n",
    "# fitting base model with default params\n",
    "model_knn = KNeighborsClassifier()\n",
    "model_knn.fit(X_train, Y_train)"
   ]
  },
  {
   "cell_type": "code",
   "execution_count": 46,
   "metadata": {},
   "outputs": [
    {
     "name": "stdout",
     "output_type": "stream",
     "text": [
      "Training accuracy: 0.7916666666666666\n",
      "Test accuracy: 0.6971428571428572\n"
     ]
    }
   ],
   "source": [
    "# predicting X_test\n",
    "y_pred = model_knn.predict(X_test)\n",
    "\n",
    "# checking for model overfit\n",
    "print(\"Training accuracy:\", accuracy_score(Y_train,model_knn.predict(X_train)))\n",
    "print(\"Test accuracy:\", accuracy_score(Y_test,y_pred))"
   ]
  },
  {
   "cell_type": "code",
   "execution_count": 47,
   "metadata": {},
   "outputs": [
    {
     "data": {
      "image/png": "[encoded data removed]",
      "text/plain": [
       "<Figure size 360x360 with 1 Axes>"
      ]
     },
     "metadata": {
      "needs_background": "light"
     },
     "output_type": "display_data"
    },
    {
     "name": "stdout",
     "output_type": "stream",
     "text": [
      "         Predicted:0 Predicted:1\n",
      "Actual:0          TN          FP\n",
      "Actual:1          FN          TP\n"
     ]
    }
   ],
   "source": [
    "# confusion matrix\n",
    "cm = pd.DataFrame(confusion_matrix(Y_test,y_pred), columns=['Predicted:0','Predicted:1'], index=['Actual:0','Actual:1'])\n",
    "\n",
    "# plotting test results confusion matrix\n",
    "plt.figure(figsize=(5,5))\n",
    "sns.heatmap(cm, cmap=\"RdYlGn\", annot=True, cbar=False, square=True)\n",
    "plt.xlabel(\"Predicted values\", fontsize=12)\n",
    "plt.ylabel(\"Actual values\", fontsize=12)\n",
    "plt.title(\"Test results\", fontsize=20)\n",
    "plt.show()\n",
    "\n",
    "cm_reference = pd.DataFrame(np.array([\"TN\",\"FP\",\"FN\",\"TP\"]).reshape(2,2), columns=['Predicted:0','Predicted:1'], index=['Actual:0','Actual:1'])\n",
    "print(cm_reference)"
   ]
  },
  {
   "cell_type": "code",
   "execution_count": 48,
   "metadata": {},
   "outputs": [
    {
     "name": "stdout",
     "output_type": "stream",
     "text": [
      "True positives: 20\n",
      "True negatives: 102\n",
      "False positives (Type I error): 26\n",
      "False negatives (Type II error): 27\n"
     ]
    }
   ],
   "source": [
    "# calculating TP,TN,FP,FN\n",
    "TN, FP, FN, TP = cm.iloc[0,0], cm.iloc[0,1], cm.iloc[1,0], cm.iloc[1,1]\n",
    "\n",
    "# print values\n",
    "print(\"True positives:\", TP)\n",
    "print(\"True negatives:\", TN)\n",
    "print(\"False positives (Type I error):\", FP)\n",
    "print(\"False negatives (Type II error):\", FN)"
   ]
  },
  {
   "cell_type": "code",
   "execution_count": 49,
   "metadata": {},
   "outputs": [
    {
     "data": {
      "text/html": [
       "<div>\n",
       "<style scoped>\n",
       "    .dataframe tbody tr th:only-of-type {\n",
       "        vertical-align: middle;\n",
       "    }\n",
       "\n",
       "    .dataframe tbody tr th {\n",
       "        vertical-align: top;\n",
       "    }\n",
       "\n",
       "    .dataframe thead th {\n",
       "        text-align: right;\n",
       "    }\n",
       "</style>\n",
       "<table border=\"1\" class=\"dataframe\">\n",
       "  <thead>\n",
       "    <tr style=\"text-align: right;\">\n",
       "      <th></th>\n",
       "      <th>Description</th>\n",
       "      <th>Misclassifications</th>\n",
       "      <th>Type I errors</th>\n",
       "      <th>Type II errors</th>\n",
       "      <th>Precision</th>\n",
       "      <th>Recall</th>\n",
       "      <th>Accuracy</th>\n",
       "      <th>F1-score</th>\n",
       "      <th>ROC AUC</th>\n",
       "    </tr>\n",
       "  </thead>\n",
       "  <tbody>\n",
       "    <tr>\n",
       "      <th>0</th>\n",
       "      <td>Logit with hyperparamter tuning</td>\n",
       "      <td>46</td>\n",
       "      <td>12</td>\n",
       "      <td>34</td>\n",
       "      <td>0.77</td>\n",
       "      <td>0.91</td>\n",
       "      <td>0.74</td>\n",
       "      <td>0.83</td>\n",
       "      <td>0.59</td>\n",
       "    </tr>\n",
       "    <tr>\n",
       "      <th>0</th>\n",
       "      <td>Base kNN model</td>\n",
       "      <td>53</td>\n",
       "      <td>26</td>\n",
       "      <td>27</td>\n",
       "      <td>0.79</td>\n",
       "      <td>0.8</td>\n",
       "      <td>0.7</td>\n",
       "      <td>0.79</td>\n",
       "      <td>0.61</td>\n",
       "    </tr>\n",
       "  </tbody>\n",
       "</table>\n",
       "</div>"
      ],
      "text/plain": [
       "                       Description Misclassifications Type I errors  \\\n",
       "0  Logit with hyperparamter tuning                 46            12   \n",
       "0                   Base kNN model                 53            26   \n",
       "\n",
       "  Type II errors Precision Recall Accuracy F1-score ROC AUC  \n",
       "0             34      0.77   0.91     0.74     0.83    0.59  \n",
       "0             27      0.79    0.8      0.7     0.79    0.61  "
      ]
     },
     "execution_count": 49,
     "metadata": {},
     "output_type": "execute_result"
    }
   ],
   "source": [
    "# itereation results\n",
    "description = \"Base kNN model\"\n",
    "misclassifications = FP + FN\n",
    "type1 = FP\n",
    "type2 = FN\n",
    "precision = round(precision_score(Y_test,y_pred),2)\n",
    "recall = round(recall_score(Y_test,y_pred),2)\n",
    "accuracy = round(accuracy_score(Y_test,y_pred),2)\n",
    "f1 = round(f1_score(Y_test,y_pred),2)\n",
    "auc = round(roc_auc_score(Y_test,y_pred),2)\n",
    "\n",
    "df_results = pd.concat([df_results,\n",
    "                        pd.DataFrame(np.array([description,\n",
    "                                     misclassifications,\n",
    "                                     type1,\n",
    "                                     type2,\n",
    "                                     precision,\n",
    "                                     recall,\n",
    "                                     accuracy,\n",
    "                                     f1,\n",
    "                                     auc]).reshape(1,-1), columns=['Description','Misclassifications','Type I errors','Type II errors','Precision','Recall','Accuracy','F1-score','ROC AUC'])\n",
    "                                  ], axis=0)\n",
    "\n",
    "df_results"
   ]
  },
  {
   "cell_type": "code",
   "execution_count": 50,
   "metadata": {},
   "outputs": [],
   "source": [
    "## Optimizing for optimal k value."
   ]
  },
  {
   "cell_type": "code",
   "execution_count": 51,
   "metadata": {},
   "outputs": [
    {
     "data": {
      "image/png": "[encoded data removed]",
      "text/plain": [
       "<Figure size 864x576 with 1 Axes>"
      ]
     },
     "metadata": {
      "needs_background": "light"
     },
     "output_type": "display_data"
    },
    {
     "name": "stdout",
     "output_type": "stream",
     "text": [
      "Best accuracy is 0.7428571428571429 with k = 6\n"
     ]
    }
   ],
   "source": [
    "# k values for model complexity\n",
    "neig = np.arange(1, 25)\n",
    "train_accuracy, test_accuracy = [], []\n",
    "\n",
    "# loop over different values of k\n",
    "for k in neig:\n",
    "    # k from 1 to 25(exclude)\n",
    "    knn = KNeighborsClassifier(n_neighbors=k)\n",
    "    # Fit with knn\n",
    "    knn.fit(X_train,Y_train)\n",
    "    #train accuracy\n",
    "    train_accuracy.append(knn.score(X_train, Y_train))\n",
    "    # test accuracy\n",
    "    test_accuracy.append(knn.score(X_test, Y_test))\n",
    "\n",
    "# Plot\n",
    "plt.figure(figsize=[12,8])\n",
    "plt.plot(neig, test_accuracy, label = 'Testing Accuracy')\n",
    "plt.plot(neig, train_accuracy, label = 'Training Accuracy')\n",
    "plt.legend()\n",
    "plt.title('Value VS Accuracy',fontsize=20)\n",
    "plt.xlabel('Number of Neighbors',fontsize=20)\n",
    "plt.ylabel('Accuracy',fontsize=20)\n",
    "plt.xticks(neig)\n",
    "plt.grid()\n",
    "plt.show()\n",
    "print(\"Best accuracy is {} with k = {}\".format(np.max(test_accuracy),1+test_accuracy.index(np.max(test_accuracy))))"
   ]
  },
  {
   "cell_type": "code",
   "execution_count": 52,
   "metadata": {},
   "outputs": [
    {
     "data": {
      "text/plain": [
       "KNeighborsClassifier(algorithm='auto', leaf_size=30, metric='minkowski',\n",
       "                     metric_params=None, n_jobs=None, n_neighbors=6, p=2,\n",
       "                     weights='uniform')"
      ]
     },
     "execution_count": 52,
     "metadata": {},
     "output_type": "execute_result"
    }
   ],
   "source": [
    "# fitting base model with k=6\n",
    "model_knn = KNeighborsClassifier(n_neighbors=6)\n",
    "model_knn.fit(X_train, Y_train)"
   ]
  },
  {
   "cell_type": "code",
   "execution_count": 53,
   "metadata": {},
   "outputs": [
    {
     "name": "stdout",
     "output_type": "stream",
     "text": [
      "Training accuracy: 0.7328431372549019\n",
      "Test accuracy: 0.7428571428571429\n"
     ]
    }
   ],
   "source": [
    "# predicting X_test\n",
    "y_pred = model_knn.predict(X_test)\n",
    "\n",
    "# checking for model overfit\n",
    "print(\"Training accuracy:\", accuracy_score(Y_train,model_knn.predict(X_train)))\n",
    "print(\"Test accuracy:\", accuracy_score(Y_test,y_pred))"
   ]
  },
  {
   "cell_type": "code",
   "execution_count": 54,
   "metadata": {},
   "outputs": [
    {
     "data": {
      "image/png": "[encoded data removed]",
      "text/plain": [
       "<Figure size 360x360 with 1 Axes>"
      ]
     },
     "metadata": {
      "needs_background": "light"
     },
     "output_type": "display_data"
    },
    {
     "name": "stdout",
     "output_type": "stream",
     "text": [
      "         Predicted:0 Predicted:1\n",
      "Actual:0          TN          FP\n",
      "Actual:1          FN          TP\n"
     ]
    }
   ],
   "source": [
    "# confusion matrix\n",
    "cm = pd.DataFrame(confusion_matrix(Y_test,y_pred), columns=['Predicted:0','Predicted:1'], index=['Actual:0','Actual:1'])\n",
    "\n",
    "# plotting test results confusion matrix\n",
    "plt.figure(figsize=(5,5))\n",
    "sns.heatmap(cm, cmap=\"RdYlGn\", annot=True, cbar=False, square=True)\n",
    "plt.xlabel(\"Predicted values\", fontsize=12)\n",
    "plt.ylabel(\"Actual values\", fontsize=12)\n",
    "plt.title(\"Test results\", fontsize=20)\n",
    "plt.show()\n",
    "\n",
    "cm_reference = pd.DataFrame(np.array([\"TN\",\"FP\",\"FN\",\"TP\"]).reshape(2,2), columns=['Predicted:0','Predicted:1'], index=['Actual:0','Actual:1'])\n",
    "print(cm_reference)"
   ]
  },
  {
   "cell_type": "code",
   "execution_count": 55,
   "metadata": {},
   "outputs": [
    {
     "name": "stdout",
     "output_type": "stream",
     "text": [
      "True positives: 13\n",
      "True negatives: 117\n",
      "False positives (Type I error): 11\n",
      "False negatives (Type II error): 34\n"
     ]
    }
   ],
   "source": [
    "# calculating TP,TN,FP,FN\n",
    "TN, FP, FN, TP = cm.iloc[0,0], cm.iloc[0,1], cm.iloc[1,0], cm.iloc[1,1]\n",
    "\n",
    "# print values\n",
    "print(\"True positives:\", TP)\n",
    "print(\"True negatives:\", TN)\n",
    "print(\"False positives (Type I error):\", FP)\n",
    "print(\"False negatives (Type II error):\", FN)"
   ]
  },
  {
   "cell_type": "code",
   "execution_count": 56,
   "metadata": {},
   "outputs": [
    {
     "data": {
      "text/html": [
       "<div>\n",
       "<style scoped>\n",
       "    .dataframe tbody tr th:only-of-type {\n",
       "        vertical-align: middle;\n",
       "    }\n",
       "\n",
       "    .dataframe tbody tr th {\n",
       "        vertical-align: top;\n",
       "    }\n",
       "\n",
       "    .dataframe thead th {\n",
       "        text-align: right;\n",
       "    }\n",
       "</style>\n",
       "<table border=\"1\" class=\"dataframe\">\n",
       "  <thead>\n",
       "    <tr style=\"text-align: right;\">\n",
       "      <th></th>\n",
       "      <th>Description</th>\n",
       "      <th>Misclassifications</th>\n",
       "      <th>Type I errors</th>\n",
       "      <th>Type II errors</th>\n",
       "      <th>Precision</th>\n",
       "      <th>Recall</th>\n",
       "      <th>Accuracy</th>\n",
       "      <th>F1-score</th>\n",
       "      <th>ROC AUC</th>\n",
       "    </tr>\n",
       "  </thead>\n",
       "  <tbody>\n",
       "    <tr>\n",
       "      <th>0</th>\n",
       "      <td>Logit with hyperparamter tuning</td>\n",
       "      <td>46</td>\n",
       "      <td>12</td>\n",
       "      <td>34</td>\n",
       "      <td>0.77</td>\n",
       "      <td>0.91</td>\n",
       "      <td>0.74</td>\n",
       "      <td>0.83</td>\n",
       "      <td>0.59</td>\n",
       "    </tr>\n",
       "    <tr>\n",
       "      <th>0</th>\n",
       "      <td>Base kNN model</td>\n",
       "      <td>53</td>\n",
       "      <td>26</td>\n",
       "      <td>27</td>\n",
       "      <td>0.79</td>\n",
       "      <td>0.8</td>\n",
       "      <td>0.7</td>\n",
       "      <td>0.79</td>\n",
       "      <td>0.61</td>\n",
       "    </tr>\n",
       "    <tr>\n",
       "      <th>0</th>\n",
       "      <td>kNN with optimal k (6)</td>\n",
       "      <td>45</td>\n",
       "      <td>11</td>\n",
       "      <td>34</td>\n",
       "      <td>0.77</td>\n",
       "      <td>0.91</td>\n",
       "      <td>0.74</td>\n",
       "      <td>0.84</td>\n",
       "      <td>0.6</td>\n",
       "    </tr>\n",
       "  </tbody>\n",
       "</table>\n",
       "</div>"
      ],
      "text/plain": [
       "                       Description Misclassifications Type I errors  \\\n",
       "0  Logit with hyperparamter tuning                 46            12   \n",
       "0                   Base kNN model                 53            26   \n",
       "0           kNN with optimal k (6)                 45            11   \n",
       "\n",
       "  Type II errors Precision Recall Accuracy F1-score ROC AUC  \n",
       "0             34      0.77   0.91     0.74     0.83    0.59  \n",
       "0             27      0.79    0.8      0.7     0.79    0.61  \n",
       "0             34      0.77   0.91     0.74     0.84     0.6  "
      ]
     },
     "execution_count": 56,
     "metadata": {},
     "output_type": "execute_result"
    }
   ],
   "source": [
    "# itereation results\n",
    "description = \"kNN with optimal k (6)\"\n",
    "misclassifications = FP + FN\n",
    "type1 = FP\n",
    "type2 = FN\n",
    "precision = round(precision_score(Y_test,y_pred),2)\n",
    "recall = round(recall_score(Y_test,y_pred),2)\n",
    "accuracy = round(accuracy_score(Y_test,y_pred),2)\n",
    "f1 = round(f1_score(Y_test,y_pred),2)\n",
    "auc = round(roc_auc_score(Y_test,y_pred),2)\n",
    "\n",
    "df_results = pd.concat([df_results,\n",
    "                        pd.DataFrame(np.array([description,\n",
    "                                     misclassifications,\n",
    "                                     type1,\n",
    "                                     type2,\n",
    "                                     precision,\n",
    "                                     recall,\n",
    "                                     accuracy,\n",
    "                                     f1,\n",
    "                                     auc]).reshape(1,-1), columns=['Description','Misclassifications','Type I errors','Type II errors','Precision','Recall','Accuracy','F1-score','ROC AUC'])\n",
    "                                  ], axis=0)\n",
    "\n",
    "df_results"
   ]
  },
  {
   "cell_type": "code",
   "execution_count": 57,
   "metadata": {},
   "outputs": [],
   "source": [
    "# Random Forest"
   ]
  },
  {
   "cell_type": "code",
   "execution_count": 58,
   "metadata": {},
   "outputs": [],
   "source": [
    "from sklearn.ensemble import RandomForestClassifier "
   ]
  },
  {
   "cell_type": "code",
   "execution_count": 59,
   "metadata": {},
   "outputs": [
    {
     "name": "stderr",
     "output_type": "stream",
     "text": [
      "/opt/conda/lib/python3.6/site-packages/sklearn/ensemble/forest.py:245: FutureWarning: The default value of n_estimators will change from 10 in version 0.20 to 100 in 0.22.\n",
      "  \"10 in version 0.20 to 100 in 0.22.\", FutureWarning)\n"
     ]
    },
    {
     "data": {
      "text/plain": [
       "RandomForestClassifier(bootstrap=True, class_weight=None, criterion='gini',\n",
       "                       max_depth=None, max_features='auto', max_leaf_nodes=None,\n",
       "                       min_impurity_decrease=0.0, min_impurity_split=None,\n",
       "                       min_samples_leaf=1, min_samples_split=2,\n",
       "                       min_weight_fraction_leaf=0.0, n_estimators=10,\n",
       "                       n_jobs=None, oob_score=False, random_state=None,\n",
       "                       verbose=0, warm_start=False)"
      ]
     },
     "execution_count": 59,
     "metadata": {},
     "output_type": "execute_result"
    }
   ],
   "source": [
    "model_rfc = RandomForestClassifier()\n",
    "model_rfc.fit(X_train, Y_train)"
   ]
  },
  {
   "cell_type": "code",
   "execution_count": 60,
   "metadata": {},
   "outputs": [
    {
     "name": "stdout",
     "output_type": "stream",
     "text": [
      "Training accuracy: 0.7328431372549019\n",
      "Test accuracy: 0.72\n"
     ]
    }
   ],
   "source": [
    "# predicting X_test\n",
    "y_pred = model_rfc.predict(X_test)\n",
    "\n",
    "# checking for model overfit\n",
    "print(\"Training accuracy:\", accuracy_score(Y_train,model_knn.predict(X_train)))\n",
    "print(\"Test accuracy:\", accuracy_score(Y_test,y_pred))"
   ]
  },
  {
   "cell_type": "code",
   "execution_count": 61,
   "metadata": {},
   "outputs": [
    {
     "data": {
      "image/png": "[encoded data removed]",
      "text/plain": [
       "<Figure size 360x360 with 1 Axes>"
      ]
     },
     "metadata": {
      "needs_background": "light"
     },
     "output_type": "display_data"
    },
    {
     "name": "stdout",
     "output_type": "stream",
     "text": [
      "         Predicted:0 Predicted:1\n",
      "Actual:0          TN          FP\n",
      "Actual:1          FN          TP\n"
     ]
    }
   ],
   "source": [
    "# confusion matrix\n",
    "cm = pd.DataFrame(confusion_matrix(Y_test,y_pred), columns=['Predicted:0','Predicted:1'], index=['Actual:0','Actual:1'])\n",
    "\n",
    "# plotting test results confusion matrix\n",
    "plt.figure(figsize=(5,5))\n",
    "sns.heatmap(cm, cmap=\"RdYlGn\", annot=True, cbar=False, square=True)\n",
    "plt.xlabel(\"Predicted values\", fontsize=12)\n",
    "plt.ylabel(\"Actual values\", fontsize=12)\n",
    "plt.title(\"Test results\", fontsize=20)\n",
    "plt.show()\n",
    "\n",
    "cm_reference = pd.DataFrame(np.array([\"TN\",\"FP\",\"FN\",\"TP\"]).reshape(2,2), columns=['Predicted:0','Predicted:1'], index=['Actual:0','Actual:1'])\n",
    "print(cm_reference)"
   ]
  },
  {
   "cell_type": "code",
   "execution_count": null,
   "metadata": {},
   "outputs": [],
   "source": []
  },
  {
   "cell_type": "code",
   "execution_count": 62,
   "metadata": {},
   "outputs": [
    {
     "name": "stdout",
     "output_type": "stream",
     "text": [
      "True positives: 19\n",
      "True negatives: 107\n",
      "False positives (Type I error): 21\n",
      "False negatives (Type II error): 28\n"
     ]
    }
   ],
   "source": [
    "# calculating TP,TN,FP,FN\n",
    "TN, FP, FN, TP = cm.iloc[0,0], cm.iloc[0,1], cm.iloc[1,0], cm.iloc[1,1]\n",
    "\n",
    "# print values\n",
    "print(\"True positives:\", TP)\n",
    "print(\"True negatives:\", TN)\n",
    "print(\"False positives (Type I error):\", FP)\n",
    "print(\"False negatives (Type II error):\", FN)"
   ]
  },
  {
   "cell_type": "code",
   "execution_count": 63,
   "metadata": {},
   "outputs": [
    {
     "data": {
      "text/html": [
       "<div>\n",
       "<style scoped>\n",
       "    .dataframe tbody tr th:only-of-type {\n",
       "        vertical-align: middle;\n",
       "    }\n",
       "\n",
       "    .dataframe tbody tr th {\n",
       "        vertical-align: top;\n",
       "    }\n",
       "\n",
       "    .dataframe thead th {\n",
       "        text-align: right;\n",
       "    }\n",
       "</style>\n",
       "<table border=\"1\" class=\"dataframe\">\n",
       "  <thead>\n",
       "    <tr style=\"text-align: right;\">\n",
       "      <th></th>\n",
       "      <th>Description</th>\n",
       "      <th>Misclassifications</th>\n",
       "      <th>Type I errors</th>\n",
       "      <th>Type II errors</th>\n",
       "      <th>Precision</th>\n",
       "      <th>Recall</th>\n",
       "      <th>Accuracy</th>\n",
       "      <th>F1-score</th>\n",
       "      <th>ROC AUC</th>\n",
       "    </tr>\n",
       "  </thead>\n",
       "  <tbody>\n",
       "    <tr>\n",
       "      <th>0</th>\n",
       "      <td>Logit with hyperparamter tuning</td>\n",
       "      <td>46</td>\n",
       "      <td>12</td>\n",
       "      <td>34</td>\n",
       "      <td>0.77</td>\n",
       "      <td>0.91</td>\n",
       "      <td>0.74</td>\n",
       "      <td>0.83</td>\n",
       "      <td>0.59</td>\n",
       "    </tr>\n",
       "    <tr>\n",
       "      <th>0</th>\n",
       "      <td>Base kNN model</td>\n",
       "      <td>53</td>\n",
       "      <td>26</td>\n",
       "      <td>27</td>\n",
       "      <td>0.79</td>\n",
       "      <td>0.8</td>\n",
       "      <td>0.7</td>\n",
       "      <td>0.79</td>\n",
       "      <td>0.61</td>\n",
       "    </tr>\n",
       "    <tr>\n",
       "      <th>0</th>\n",
       "      <td>kNN with optimal k (6)</td>\n",
       "      <td>45</td>\n",
       "      <td>11</td>\n",
       "      <td>34</td>\n",
       "      <td>0.77</td>\n",
       "      <td>0.91</td>\n",
       "      <td>0.74</td>\n",
       "      <td>0.84</td>\n",
       "      <td>0.6</td>\n",
       "    </tr>\n",
       "    <tr>\n",
       "      <th>0</th>\n",
       "      <td>Base random forest</td>\n",
       "      <td>49</td>\n",
       "      <td>21</td>\n",
       "      <td>28</td>\n",
       "      <td>0.79</td>\n",
       "      <td>0.84</td>\n",
       "      <td>0.72</td>\n",
       "      <td>0.81</td>\n",
       "      <td>0.62</td>\n",
       "    </tr>\n",
       "  </tbody>\n",
       "</table>\n",
       "</div>"
      ],
      "text/plain": [
       "                       Description Misclassifications Type I errors  \\\n",
       "0  Logit with hyperparamter tuning                 46            12   \n",
       "0                   Base kNN model                 53            26   \n",
       "0           kNN with optimal k (6)                 45            11   \n",
       "0               Base random forest                 49            21   \n",
       "\n",
       "  Type II errors Precision Recall Accuracy F1-score ROC AUC  \n",
       "0             34      0.77   0.91     0.74     0.83    0.59  \n",
       "0             27      0.79    0.8      0.7     0.79    0.61  \n",
       "0             34      0.77   0.91     0.74     0.84     0.6  \n",
       "0             28      0.79   0.84     0.72     0.81    0.62  "
      ]
     },
     "execution_count": 63,
     "metadata": {},
     "output_type": "execute_result"
    }
   ],
   "source": [
    "# itereation results\n",
    "description = \"Base random forest\"\n",
    "misclassifications = FP + FN\n",
    "type1 = FP\n",
    "type2 = FN\n",
    "precision = round(precision_score(Y_test,y_pred),2)\n",
    "recall = round(recall_score(Y_test,y_pred),2)\n",
    "accuracy = round(accuracy_score(Y_test,y_pred),2)\n",
    "f1 = round(f1_score(Y_test,y_pred),2)\n",
    "auc = round(roc_auc_score(Y_test,y_pred),2)\n",
    "\n",
    "df_results = pd.concat([df_results,\n",
    "                        pd.DataFrame(np.array([description,\n",
    "                                     misclassifications,\n",
    "                                     type1,\n",
    "                                     type2,\n",
    "                                     precision,\n",
    "                                     recall,\n",
    "                                     accuracy,\n",
    "                                     f1,\n",
    "                                     auc]).reshape(1,-1), columns=['Description','Misclassifications','Type I errors','Type II errors','Precision','Recall','Accuracy','F1-score','ROC AUC'])\n",
    "                                  ], axis=0)\n",
    "\n",
    "df_results"
   ]
  },
  {
   "cell_type": "markdown",
   "metadata": {},
   "source": [
    "**As we can see that logistic regression and KNN with k=6 is the best model for us as it gives best accuracy.**"
   ]
  },
  {
   "cell_type": "markdown",
   "metadata": {},
   "source": [
    "### 8. Summarize as follows \n",
    "#### 1.\tSummarize the overall fit of the model and list down the measures to prove that it is a good model\n",
    "#### 2.\tWrite down a business interpretation/explanation of the model – which variables are affecting the target the most and explain the relationship. Feel free to use charts or graphs to explain.\n",
    "#### 3.\tWhat changes from the base model had the most effect on model performance?\n",
    "#### 4.\tWhat are the key risks to your results and interpretation?\n"
   ]
  },
  {
   "cell_type": "markdown",
   "metadata": {},
   "source": [
    "1."
   ]
  },
  {
   "cell_type": "markdown",
   "metadata": {},
   "source": [
    "As we can see that KNN with k=6 is the best model for us as it gives best accuracy.We use optimum k value 6 by hyper parameter tuning.It gives 74% accuracy. Logistic regression is also giving almost same accuracy."
   ]
  },
  {
   "cell_type": "markdown",
   "metadata": {},
   "source": [
    "2."
   ]
  },
  {
   "cell_type": "code",
   "execution_count": 64,
   "metadata": {},
   "outputs": [
    {
     "name": "stdout",
     "output_type": "stream",
     "text": [
      "Correlation of selector with all independent variables\n"
     ]
    },
    {
     "data": {
      "image/png": "[encoded data removed]",
      "text/plain": [
       "<Figure size 432x288 with 1 Axes>"
      ]
     },
     "metadata": {
      "needs_background": "light"
     },
     "output_type": "display_data"
    }
   ],
   "source": [
    "print('Correlation of selector with all independent variables')\n",
    "df.corr()['target'].plot.barh()\n",
    "plt.show()"
   ]
  },
  {
   "cell_type": "markdown",
   "metadata": {},
   "source": [
    "Albumin and Albumin_and_Globulin ratio,Total_Protiens are the variables which are afftecting target variable most"
   ]
  },
  {
   "cell_type": "markdown",
   "metadata": {},
   "source": [
    "3."
   ]
  },
  {
   "cell_type": "markdown",
   "metadata": {},
   "source": [
    "We are changing value of k by doing hyper parameter tuning. We get optimum k value 6 for the model.it increases the accuracy compared to base model."
   ]
  },
  {
   "cell_type": "markdown",
   "metadata": {},
   "source": [
    "4."
   ]
  },
  {
   "cell_type": "markdown",
   "metadata": {},
   "source": [
    "- Mitigating Risk of Machine Learning\n",
    "- Data Difficulties.\n",
    "- Technology Troubles.\n",
    "- Security Snags.\n",
    "- Models Misbehaving.\n",
    "- Interaction Issues."
   ]
  },
  {
   "cell_type": "code",
   "execution_count": null,
   "metadata": {},
   "outputs": [],
   "source": []
  }
 ],
 "metadata": {
  "kernelspec": {
   "display_name": "Python 3",
   "language": "python",
   "name": "python3"
  },
  "language_info": {
   "codemirror_mode": {
    "name": "ipython",
    "version": 3
   },
   "file_extension": ".py",
   "mimetype": "text/x-python",
   "name": "python",
   "nbconvert_exporter": "python",
   "pygments_lexer": "ipython3",
   "version": "3.6.6"
  }
 },
 "nbformat": 4,
 "nbformat_minor": 1
}
